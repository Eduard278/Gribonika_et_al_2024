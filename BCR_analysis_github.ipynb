{
 "cells": [
  {
   "cell_type": "markdown",
   "metadata": {},
   "source": [
    "# BCR analysis"
   ]
  },
  {
   "cell_type": "markdown",
   "metadata": {},
   "source": [
    "## Initialization"
   ]
  },
  {
   "cell_type": "markdown",
   "metadata": {},
   "source": [
    "### Loading packages"
   ]
  },
  {
   "cell_type": "code",
   "execution_count": 1,
   "metadata": {
    "metadata": {},
    "vscode": {
     "languageId": "r"
    }
   },
   "outputs": [
    {
     "name": "stderr",
     "output_type": "stream",
     "text": [
      "Warning message:\n",
      "\"package 'Seurat' was built under R version 4.3.3\"\n",
      "Warning message:\n",
      "\"package 'SeuratObject' was built under R version 4.3.3\"\n",
      "Warning message:\n",
      "\"package 'sp' was built under R version 4.3.3\"\n"
     ]
    },
    {
     "name": "stderr",
     "output_type": "stream",
     "text": [
      "Warning message:\n",
      "\"package 'ggplot2' was built under R version 4.3.3\"\n",
      "Warning message:\n",
      "\"package 'tidyr' was built under R version 4.3.3\"\n",
      "Warning message:\n",
      "\"package 'viridis' was built under R version 4.3.3\"\n",
      "Warning message:\n",
      "\"package 'ggrepel' was built under R version 4.3.3\"\n",
      "Warning message:\n",
      "\"package 'GenomeInfoDb' was built under R version 4.3.3\"\n",
      "Warning message:\n",
      "\"package 'languageserver' was built under R version 4.3.3\"\n"
     ]
    }
   ],
   "source": [
    "#Library the required\n",
    "\n",
    "suppressMessages(library(Seurat))\n",
    "suppressMessages(library(dplyr))\n",
    "suppressMessages(library(cowplot))\n",
    "suppressMessages(library(ggplot2))\n",
    "\n",
    "suppressMessages(library(stringr))\n",
    "suppressMessages(library(Stat2Data))\n",
    "suppressMessages(library(tidyverse))\n",
    "suppressMessages(library(patchwork))\n",
    "# library(pheatmap))\n",
    "suppressMessages(library(viridis)) \n",
    "suppressMessages(library(ggplot2))\n",
    "suppressMessages(library(ggrepel))\n",
    "suppressMessages(library(scRepertoire))\n",
    "suppressMessages(library(circlize))\n",
    "suppressMessages(library(scales))\n",
    "suppressMessages(library(scCustomize))\n",
    "suppressMessages(library(DESeq2)) \n",
    "suppressMessages(library(languageserver))"
   ]
  },
  {
   "cell_type": "code",
   "execution_count": 21,
   "metadata": {
    "metadata": {},
    "vscode": {
     "languageId": "r"
    }
   },
   "outputs": [
    {
     "data": {
      "text/plain": [
       "R version 4.3.2 (2023-10-31 ucrt)\n",
       "Platform: x86_64-w64-mingw32/x64 (64-bit)\n",
       "Running under: Windows 11 x64 (build 22621)\n",
       "\n",
       "Matrix products: default\n",
       "\n",
       "\n",
       "locale:\n",
       "[1] LC_COLLATE=English_United States.utf8 \n",
       "[2] LC_CTYPE=English_United States.utf8   \n",
       "[3] LC_MONETARY=English_United States.utf8\n",
       "[4] LC_NUMERIC=C                          \n",
       "[5] LC_TIME=English_United States.utf8    \n",
       "\n",
       "time zone: America/New_York\n",
       "tzcode source: internal\n",
       "\n",
       "attached base packages:\n",
       "[1] stats4    stats     graphics  grDevices utils     datasets  methods  \n",
       "[8] base     \n",
       "\n",
       "other attached packages:\n",
       " [1] languageserver_0.3.16       DESeq2_1.42.0              \n",
       " [3] SummarizedExperiment_1.32.0 Biobase_2.62.0             \n",
       " [5] MatrixGenerics_1.14.0       matrixStats_1.2.0          \n",
       " [7] GenomicRanges_1.54.1        GenomeInfoDb_1.38.8        \n",
       " [9] IRanges_2.36.0              S4Vectors_0.40.2           \n",
       "[11] BiocGenerics_0.48.1         scCustomize_2.0.1          \n",
       "[13] scales_1.3.0                circlize_0.4.15            \n",
       "[15] scRepertoire_2.0.0          ggrepel_0.9.5              \n",
       "[17] viridis_0.6.5               viridisLite_0.4.2          \n",
       "[19] patchwork_1.2.0.9000        lubridate_1.9.3            \n",
       "[21] forcats_1.0.0               purrr_1.0.2                \n",
       "[23] readr_2.1.4                 tidyr_1.3.1                \n",
       "[25] tibble_3.2.1                tidyverse_2.0.0            \n",
       "[27] Stat2Data_2.0.0             stringr_1.5.1              \n",
       "[29] ggplot2_3.5.1               cowplot_1.1.2              \n",
       "[31] dplyr_1.1.4                 Seurat_5.1.0               \n",
       "[33] SeuratObject_5.0.2          sp_2.1-4                   \n",
       "\n",
       "loaded via a namespace (and not attached):\n",
       "  [1] cubature_2.1.0              RcppAnnoy_0.0.21           \n",
       "  [3] splines_4.3.2               later_1.3.2                \n",
       "  [5] pbdZMQ_0.3-10               bitops_1.0-7               \n",
       "  [7] polyclip_1.10-6             janitor_2.2.0              \n",
       "  [9] fastDummies_1.7.3           lifecycle_1.0.4            \n",
       " [11] processx_3.8.3              globals_0.16.3             \n",
       " [13] lattice_0.22-5              MASS_7.3-60                \n",
       " [15] magrittr_2.0.3              plotly_4.10.3              \n",
       " [17] httpuv_1.6.13               sctransform_0.4.1          \n",
       " [19] spam_2.10-0                 spatstat.sparse_3.0-3      \n",
       " [21] reticulate_1.34.0           pbapply_1.7-2              \n",
       " [23] RColorBrewer_1.1-3          abind_1.4-5                \n",
       " [25] zlibbioc_1.48.2             Rtsne_0.17                 \n",
       " [27] ggraph_2.2.1                RCurl_1.98-1.14            \n",
       " [29] tweenr_2.0.3                evmix_2.12                 \n",
       " [31] GenomeInfoDbData_1.2.11     irlba_2.3.5.1              \n",
       " [33] listenv_0.9.1               spatstat.utils_3.0-4       \n",
       " [35] iNEXT_3.0.1                 MatrixModels_0.5-3         \n",
       " [37] goftest_1.2-3               RSpectra_0.16-1            \n",
       " [39] spatstat.random_3.2-2       fitdistrplus_1.1-11        \n",
       " [41] parallelly_1.37.1           leiden_0.4.3.1             \n",
       " [43] codetools_0.2-19            DelayedArray_0.28.0        \n",
       " [45] xml2_1.3.6                  ggforce_0.4.2              \n",
       " [47] shape_1.4.6                 tidyselect_1.2.1           \n",
       " [49] farver_2.1.1                base64enc_0.1-3            \n",
       " [51] spatstat.explore_3.2-5      jsonlite_1.8.8             \n",
       " [53] ellipsis_0.3.2              tidygraph_1.3.1            \n",
       " [55] progressr_0.14.0            ggridges_0.5.5             \n",
       " [57] ggalluvial_0.12.5           survival_3.5-7             \n",
       " [59] tools_4.3.2                 stringdist_0.9.12          \n",
       " [61] ica_1.0-3                   Rcpp_1.0.12                \n",
       " [63] glue_1.7.0                  gridExtra_2.3              \n",
       " [65] SparseArray_1.2.4           IRdisplay_1.1              \n",
       " [67] withr_3.0.0                 fastmap_1.1.1              \n",
       " [69] fansi_1.0.6                 SparseM_1.81               \n",
       " [71] callr_3.7.3                 digest_0.6.35              \n",
       " [73] timechange_0.2.0            R6_2.5.1                   \n",
       " [75] mime_0.12                   ggprism_1.0.4              \n",
       " [77] colorspace_2.1-0            scattermore_1.2            \n",
       " [79] tensor_1.5                  spatstat.data_3.0-3        \n",
       " [81] utf8_1.2.4                  generics_0.1.3             \n",
       " [83] data.table_1.15.4           graphlayouts_1.1.1         \n",
       " [85] httr_1.4.7                  htmlwidgets_1.6.4          \n",
       " [87] S4Arrays_1.2.1              uwot_0.1.16                \n",
       " [89] pkgconfig_2.0.3             gtable_0.3.4               \n",
       " [91] lmtest_0.9-40               SingleCellExperiment_1.24.0\n",
       " [93] XVector_0.42.0              htmltools_0.5.7            \n",
       " [95] dotCall64_1.1-1             png_0.1-8                  \n",
       " [97] snakecase_0.11.1            ggdendro_0.2.0             \n",
       " [99] rjson_0.2.21                tzdb_0.4.0                 \n",
       "[101] reshape2_1.4.4              uuid_1.1-1                 \n",
       "[103] nlme_3.1-164                GlobalOptions_0.1.2        \n",
       "[105] cachem_1.0.8                repr_1.1.6                 \n",
       "[107] zoo_1.8-12                  KernSmooth_2.23-22         \n",
       "[109] vipor_0.4.7                 parallel_4.3.2             \n",
       "[111] miniUI_0.1.1.1              ggrastr_1.0.2              \n",
       "[113] pillar_1.9.0                grid_4.3.2                 \n",
       "[115] vctrs_0.6.5                 RANN_2.6.1                 \n",
       "[117] VGAM_1.1-11                 promises_1.2.1             \n",
       "[119] xtable_1.8-4                cluster_2.1.6              \n",
       "[121] paletteer_1.5.0             beeswarm_0.4.0             \n",
       "[123] evaluate_0.23               truncdist_1.0-2            \n",
       "[125] locfit_1.5-9.8              cli_3.6.2                  \n",
       "[127] compiler_4.3.2              rlang_1.1.3                \n",
       "[129] crayon_1.5.2                future.apply_1.11.2        \n",
       "[131] rematch2_2.1.2              ps_1.7.5                   \n",
       "[133] ggbeeswarm_0.7.2            plyr_1.8.9                 \n",
       "[135] stringi_1.8.3               BiocParallel_1.36.0        \n",
       "[137] deldir_2.0-2                munsell_0.5.0              \n",
       "[139] gsl_2.1-8                   lazyeval_0.2.2             \n",
       "[141] spatstat.geom_3.2-7         quantreg_5.97              \n",
       "[143] Matrix_1.6-4                IRkernel_1.3.2             \n",
       "[145] RcppHNSW_0.5.0              hms_1.1.3                  \n",
       "[147] future_1.33.2               shiny_1.8.0                \n",
       "[149] evd_2.3-6.1                 ROCR_1.0-11                \n",
       "[151] memoise_2.0.1               igraph_2.0.3               "
      ]
     },
     "metadata": {},
     "output_type": "display_data"
    }
   ],
   "source": [
    "sessionInfo()"
   ]
  },
  {
   "cell_type": "markdown",
   "metadata": {},
   "source": [
    "### Read in Data"
   ]
  },
  {
   "cell_type": "code",
   "execution_count": 22,
   "metadata": {
    "vscode": {
     "languageId": "r"
    }
   },
   "outputs": [
    {
     "name": "stdout",
     "output_type": "stream",
     "text": [
      "Rows: 667,716\n",
      "Columns: 15\n",
      "$ CDR3         \u001b[3m\u001b[90m<chr>\u001b[39m\u001b[23m \"AAAAQAWFAY\", \"AAADYYDSSYDY\", \"AAAGITTDYAMDY\", \"AAAGYDPYY…\n",
      "$ IGH          \u001b[3m\u001b[90m<chr>\u001b[39m\u001b[23m \"mIGHV1-80\", \"mIGHV1-9\", \"mIGHV1-34\", \"mIGHV5-17\", \"mIGHV…\n",
      "$ IGJ          \u001b[3m\u001b[90m<chr>\u001b[39m\u001b[23m \"mIGHJ3\", \"mIGHJ2\", \"mIGHJ4\", \"mIGHJ2\", \"mIGHJ2\", \"mIGHJ3…\n",
      "$ E1_frequency \u001b[3m\u001b[90m<int>\u001b[39m\u001b[23m NA, NA, NA, NA, NA, NA, NA, NA, NA, NA, NA, NA, NA, NA, N…\n",
      "$ L1_frequency \u001b[3m\u001b[90m<int>\u001b[39m\u001b[23m NA, NA, NA, NA, NA, NA, NA, NA, NA, NA, NA, NA, NA, NA, N…\n",
      "$ S1_frequency \u001b[3m\u001b[90m<int>\u001b[39m\u001b[23m NA, NA, NA, NA, NA, NA, NA, NA, NA, NA, NA, NA, NA, NA, N…\n",
      "$ E2_frequency \u001b[3m\u001b[90m<int>\u001b[39m\u001b[23m NA, NA, NA, NA, NA, NA, NA, NA, NA, NA, NA, NA, NA, NA, N…\n",
      "$ L2_frequency \u001b[3m\u001b[90m<int>\u001b[39m\u001b[23m NA, NA, NA, NA, NA, NA, NA, NA, 2, 3, 1, NA, NA, NA, NA, …\n",
      "$ S2_frequency \u001b[3m\u001b[90m<int>\u001b[39m\u001b[23m NA, 1, 1, NA, NA, 17, NA, NA, NA, NA, NA, 1, NA, 1, 1, NA…\n",
      "$ E3_frequency \u001b[3m\u001b[90m<int>\u001b[39m\u001b[23m NA, NA, NA, NA, NA, NA, NA, NA, NA, NA, NA, NA, NA, NA, N…\n",
      "$ L3_frequency \u001b[3m\u001b[90m<int>\u001b[39m\u001b[23m NA, NA, NA, NA, NA, NA, NA, NA, NA, NA, NA, NA, NA, NA, N…\n",
      "$ S3_frequency \u001b[3m\u001b[90m<int>\u001b[39m\u001b[23m NA, NA, NA, NA, NA, NA, NA, 1, NA, NA, NA, NA, 2, NA, NA,…\n",
      "$ E4_frequency \u001b[3m\u001b[90m<int>\u001b[39m\u001b[23m NA, NA, NA, NA, NA, NA, NA, NA, NA, NA, NA, NA, NA, NA, N…\n",
      "$ L4_frequency \u001b[3m\u001b[90m<int>\u001b[39m\u001b[23m NA, NA, NA, NA, NA, NA, 1, NA, NA, NA, NA, NA, NA, NA, NA…\n",
      "$ S4_frequency \u001b[3m\u001b[90m<int>\u001b[39m\u001b[23m 1, NA, NA, 1, 2, NA, NA, NA, NA, NA, NA, NA, NA, NA, NA, …\n"
     ]
    }
   ],
   "source": [
    "all_samples<- readRDS('merge_all_samples.rds')\n",
    "glimpse(all_samples)"
   ]
  },
  {
   "cell_type": "code",
   "execution_count": 23,
   "metadata": {
    "vscode": {
     "languageId": "r"
    }
   },
   "outputs": [
    {
     "data": {
      "text/html": [
       "<table class=\"dataframe\">\n",
       "<caption>A data.frame: 6 × 15</caption>\n",
       "<thead>\n",
       "\t<tr><th></th><th scope=col>CDR3</th><th scope=col>IGH</th><th scope=col>IGJ</th><th scope=col>E1_frequency</th><th scope=col>L1_frequency</th><th scope=col>S1_frequency</th><th scope=col>E2_frequency</th><th scope=col>L2_frequency</th><th scope=col>S2_frequency</th><th scope=col>E3_frequency</th><th scope=col>L3_frequency</th><th scope=col>S3_frequency</th><th scope=col>E4_frequency</th><th scope=col>L4_frequency</th><th scope=col>S4_frequency</th></tr>\n",
       "\t<tr><th></th><th scope=col>&lt;chr&gt;</th><th scope=col>&lt;chr&gt;</th><th scope=col>&lt;chr&gt;</th><th scope=col>&lt;int&gt;</th><th scope=col>&lt;int&gt;</th><th scope=col>&lt;int&gt;</th><th scope=col>&lt;int&gt;</th><th scope=col>&lt;int&gt;</th><th scope=col>&lt;int&gt;</th><th scope=col>&lt;int&gt;</th><th scope=col>&lt;int&gt;</th><th scope=col>&lt;int&gt;</th><th scope=col>&lt;int&gt;</th><th scope=col>&lt;int&gt;</th><th scope=col>&lt;int&gt;</th></tr>\n",
       "</thead>\n",
       "<tbody>\n",
       "\t<tr><th scope=row>1</th><td>AAAAQAWFAY   </td><td>mIGHV1-80</td><td>mIGHJ3</td><td>NA</td><td>NA</td><td>NA</td><td>NA</td><td>NA</td><td>NA</td><td>NA</td><td>NA</td><td>NA</td><td>NA</td><td>NA</td><td> 1</td></tr>\n",
       "\t<tr><th scope=row>2</th><td>AAADYYDSSYDY </td><td>mIGHV1-9 </td><td>mIGHJ2</td><td>NA</td><td>NA</td><td>NA</td><td>NA</td><td>NA</td><td> 1</td><td>NA</td><td>NA</td><td>NA</td><td>NA</td><td>NA</td><td>NA</td></tr>\n",
       "\t<tr><th scope=row>3</th><td>AAAGITTDYAMDY</td><td>mIGHV1-34</td><td>mIGHJ4</td><td>NA</td><td>NA</td><td>NA</td><td>NA</td><td>NA</td><td> 1</td><td>NA</td><td>NA</td><td>NA</td><td>NA</td><td>NA</td><td>NA</td></tr>\n",
       "\t<tr><th scope=row>4</th><td>AAAGYDPYYFDY </td><td>mIGHV5-17</td><td>mIGHJ2</td><td>NA</td><td>NA</td><td>NA</td><td>NA</td><td>NA</td><td>NA</td><td>NA</td><td>NA</td><td>NA</td><td>NA</td><td>NA</td><td> 1</td></tr>\n",
       "\t<tr><th scope=row>5</th><td>AAAITTAFDY   </td><td>mIGHV3-8 </td><td>mIGHJ2</td><td>NA</td><td>NA</td><td>NA</td><td>NA</td><td>NA</td><td>NA</td><td>NA</td><td>NA</td><td>NA</td><td>NA</td><td>NA</td><td> 2</td></tr>\n",
       "\t<tr><th scope=row>6</th><td>AAALRFAY     </td><td>mIGHV14-4</td><td>mIGHJ3</td><td>NA</td><td>NA</td><td>NA</td><td>NA</td><td>NA</td><td>17</td><td>NA</td><td>NA</td><td>NA</td><td>NA</td><td>NA</td><td>NA</td></tr>\n",
       "</tbody>\n",
       "</table>\n"
      ],
      "text/latex": [
       "A data.frame: 6 × 15\n",
       "\\begin{tabular}{r|lllllllllllllll}\n",
       "  & CDR3 & IGH & IGJ & E1\\_frequency & L1\\_frequency & S1\\_frequency & E2\\_frequency & L2\\_frequency & S2\\_frequency & E3\\_frequency & L3\\_frequency & S3\\_frequency & E4\\_frequency & L4\\_frequency & S4\\_frequency\\\\\n",
       "  & <chr> & <chr> & <chr> & <int> & <int> & <int> & <int> & <int> & <int> & <int> & <int> & <int> & <int> & <int> & <int>\\\\\n",
       "\\hline\n",
       "\t1 & AAAAQAWFAY    & mIGHV1-80 & mIGHJ3 & NA & NA & NA & NA & NA & NA & NA & NA & NA & NA & NA &  1\\\\\n",
       "\t2 & AAADYYDSSYDY  & mIGHV1-9  & mIGHJ2 & NA & NA & NA & NA & NA &  1 & NA & NA & NA & NA & NA & NA\\\\\n",
       "\t3 & AAAGITTDYAMDY & mIGHV1-34 & mIGHJ4 & NA & NA & NA & NA & NA &  1 & NA & NA & NA & NA & NA & NA\\\\\n",
       "\t4 & AAAGYDPYYFDY  & mIGHV5-17 & mIGHJ2 & NA & NA & NA & NA & NA & NA & NA & NA & NA & NA & NA &  1\\\\\n",
       "\t5 & AAAITTAFDY    & mIGHV3-8  & mIGHJ2 & NA & NA & NA & NA & NA & NA & NA & NA & NA & NA & NA &  2\\\\\n",
       "\t6 & AAALRFAY      & mIGHV14-4 & mIGHJ3 & NA & NA & NA & NA & NA & 17 & NA & NA & NA & NA & NA & NA\\\\\n",
       "\\end{tabular}\n"
      ],
      "text/markdown": [
       "\n",
       "A data.frame: 6 × 15\n",
       "\n",
       "| <!--/--> | CDR3 &lt;chr&gt; | IGH &lt;chr&gt; | IGJ &lt;chr&gt; | E1_frequency &lt;int&gt; | L1_frequency &lt;int&gt; | S1_frequency &lt;int&gt; | E2_frequency &lt;int&gt; | L2_frequency &lt;int&gt; | S2_frequency &lt;int&gt; | E3_frequency &lt;int&gt; | L3_frequency &lt;int&gt; | S3_frequency &lt;int&gt; | E4_frequency &lt;int&gt; | L4_frequency &lt;int&gt; | S4_frequency &lt;int&gt; |\n",
       "|---|---|---|---|---|---|---|---|---|---|---|---|---|---|---|---|\n",
       "| 1 | AAAAQAWFAY    | mIGHV1-80 | mIGHJ3 | NA | NA | NA | NA | NA | NA | NA | NA | NA | NA | NA |  1 |\n",
       "| 2 | AAADYYDSSYDY  | mIGHV1-9  | mIGHJ2 | NA | NA | NA | NA | NA |  1 | NA | NA | NA | NA | NA | NA |\n",
       "| 3 | AAAGITTDYAMDY | mIGHV1-34 | mIGHJ4 | NA | NA | NA | NA | NA |  1 | NA | NA | NA | NA | NA | NA |\n",
       "| 4 | AAAGYDPYYFDY  | mIGHV5-17 | mIGHJ2 | NA | NA | NA | NA | NA | NA | NA | NA | NA | NA | NA |  1 |\n",
       "| 5 | AAAITTAFDY    | mIGHV3-8  | mIGHJ2 | NA | NA | NA | NA | NA | NA | NA | NA | NA | NA | NA |  2 |\n",
       "| 6 | AAALRFAY      | mIGHV14-4 | mIGHJ3 | NA | NA | NA | NA | NA | 17 | NA | NA | NA | NA | NA | NA |\n",
       "\n"
      ],
      "text/plain": [
       "  CDR3          IGH       IGJ    E1_frequency L1_frequency S1_frequency\n",
       "1 AAAAQAWFAY    mIGHV1-80 mIGHJ3 NA           NA           NA          \n",
       "2 AAADYYDSSYDY  mIGHV1-9  mIGHJ2 NA           NA           NA          \n",
       "3 AAAGITTDYAMDY mIGHV1-34 mIGHJ4 NA           NA           NA          \n",
       "4 AAAGYDPYYFDY  mIGHV5-17 mIGHJ2 NA           NA           NA          \n",
       "5 AAAITTAFDY    mIGHV3-8  mIGHJ2 NA           NA           NA          \n",
       "6 AAALRFAY      mIGHV14-4 mIGHJ3 NA           NA           NA          \n",
       "  E2_frequency L2_frequency S2_frequency E3_frequency L3_frequency S3_frequency\n",
       "1 NA           NA           NA           NA           NA           NA          \n",
       "2 NA           NA            1           NA           NA           NA          \n",
       "3 NA           NA            1           NA           NA           NA          \n",
       "4 NA           NA           NA           NA           NA           NA          \n",
       "5 NA           NA           NA           NA           NA           NA          \n",
       "6 NA           NA           17           NA           NA           NA          \n",
       "  E4_frequency L4_frequency S4_frequency\n",
       "1 NA           NA            1          \n",
       "2 NA           NA           NA          \n",
       "3 NA           NA           NA          \n",
       "4 NA           NA            1          \n",
       "5 NA           NA            2          \n",
       "6 NA           NA           NA          "
      ]
     },
     "metadata": {},
     "output_type": "display_data"
    }
   ],
   "source": [
    "head( all_samples)"
   ]
  },
  {
   "cell_type": "markdown",
   "metadata": {},
   "source": [
    "# Remaking file to incorporate SHM and replicates"
   ]
  },
  {
   "cell_type": "code",
   "execution_count": 2,
   "metadata": {
    "vscode": {
     "languageId": "r"
    }
   },
   "outputs": [],
   "source": [
    "samples <- c('E1', 'E2', 'E3', 'E4', 'L1', 'L2', 'L3', 'L4', 'S1', 'S2', 'S3', 'S4')\n",
    "\n",
    "files <- c('./2404-iR-0005_NIH_additional_analysisfinal/cdr2_fr4_airr/E1__IGH.csv' ,\n",
    "'./2404-iR-0005_NIH_additional_analysisfinal/cdr2_fr4_airr/E1_r__IGH.csv' ,\n",
    "'./2404-iR-0005_NIH_additional_analysisfinal/cdr2_fr4_airr/E2__IGH.csv' ,\n",
    "'./2404-iR-0005_NIH_additional_analysisfinal/cdr2_fr4_airr/E2_r__IGH.csv' ,\n",
    "'./2404-iR-0005_NIH_additional_analysisfinal/cdr2_fr4_airr/E3__IGH.csv' ,\n",
    "'./2404-iR-0005_NIH_additional_analysisfinal/cdr2_fr4_airr/E3_r__IGH.csv' ,\n",
    "'./2404-iR-0005_NIH_additional_analysisfinal/cdr2_fr4_airr/E4__IGH.csv' ,\n",
    "'./2404-iR-0005_NIH_additional_analysisfinal/cdr2_fr4_airr/E4_r__IGH.csv' ,\n",
    "'./2404-iR-0005_NIH_additional_analysisfinal/cdr2_fr4_airr/L1__IGH.csv' ,\n",
    "'./2404-iR-0005_NIH_additional_analysisfinal/cdr2_fr4_airr/L1_r__IGH.csv' ,\n",
    "'./2404-iR-0005_NIH_additional_analysisfinal/cdr2_fr4_airr/L2__IGH.csv' ,\n",
    "'./2404-iR-0005_NIH_additional_analysisfinal/cdr2_fr4_airr/L2_r__IGH.csv' ,\n",
    "'./2404-iR-0005_NIH_additional_analysisfinal/cdr2_fr4_airr/L3__IGH.csv' ,\n",
    "'./2404-iR-0005_NIH_additional_analysisfinal/cdr2_fr4_airr/L3_r__IGH.csv' ,\n",
    "'./2404-iR-0005_NIH_additional_analysisfinal/cdr2_fr4_airr/L4__IGH.csv' ,\n",
    "'./2404-iR-0005_NIH_additional_analysisfinal/cdr2_fr4_airr/L4_r__IGH.csv' ,\n",
    "'./2404-iR-0005_NIH_additional_analysisfinal/cdr2_fr4_airr/S1__IGH.csv' ,\n",
    "'./2404-iR-0005_NIH_additional_analysisfinal/cdr2_fr4_airr/S1_r__IGH.csv' ,\n",
    "'./2404-iR-0005_NIH_additional_analysisfinal/cdr2_fr4_airr/S2__IGH.csv' ,\n",
    "'./2404-iR-0005_NIH_additional_analysisfinal/cdr2_fr4_airr/S2_r__IGH.csv' ,\n",
    "'./2404-iR-0005_NIH_additional_analysisfinal/cdr2_fr4_airr/S3__IGH.csv' ,\n",
    "'./2404-iR-0005_NIH_additional_analysisfinal/cdr2_fr4_airr/S3_r__IGH.csv' ,\n",
    "'./2404-iR-0005_NIH_additional_analysisfinal/cdr2_fr4_airr/S4__IGH.csv' ,\n",
    "'./2404-iR-0005_NIH_additional_analysisfinal/cdr2_fr4_airr/S4_r__IGH.csv')"
   ]
  },
  {
   "cell_type": "code",
   "execution_count": 3,
   "metadata": {
    "vscode": {
     "languageId": "r"
    }
   },
   "outputs": [
    {
     "data": {
      "text/html": [
       "<table class=\"dataframe\">\n",
       "<caption>A data.frame: 6 × 13</caption>\n",
       "<thead>\n",
       "\t<tr><th></th><th scope=col>clonotype</th><th scope=col>E1</th><th scope=col>E2</th><th scope=col>E3</th><th scope=col>E4</th><th scope=col>L1</th><th scope=col>L2</th><th scope=col>L3</th><th scope=col>L4</th><th scope=col>S1</th><th scope=col>S2</th><th scope=col>S3</th><th scope=col>S4</th></tr>\n",
       "\t<tr><th></th><th scope=col>&lt;chr&gt;</th><th scope=col>&lt;dbl&gt;</th><th scope=col>&lt;dbl&gt;</th><th scope=col>&lt;dbl&gt;</th><th scope=col>&lt;dbl&gt;</th><th scope=col>&lt;dbl&gt;</th><th scope=col>&lt;dbl&gt;</th><th scope=col>&lt;dbl&gt;</th><th scope=col>&lt;dbl&gt;</th><th scope=col>&lt;dbl&gt;</th><th scope=col>&lt;dbl&gt;</th><th scope=col>&lt;dbl&gt;</th><th scope=col>&lt;dbl&gt;</th></tr>\n",
       "</thead>\n",
       "<tbody>\n",
       "\t<tr><th scope=row>1</th><td>CARAPYGNYRFAYW_IGHV9-3  </td><td>5</td><td>0</td><td>0</td><td>0</td><td>0</td><td>0</td><td>0</td><td>0</td><td> 2</td><td>0</td><td> 0</td><td>0</td></tr>\n",
       "\t<tr><th scope=row>2</th><td>CARYRSGYDAMDYW_IGHV1-18 </td><td>4</td><td>0</td><td>0</td><td>0</td><td>0</td><td>0</td><td>0</td><td>0</td><td> 0</td><td>0</td><td> 0</td><td>0</td></tr>\n",
       "\t<tr><th scope=row>3</th><td>CSIYYSFPFEYW_IGHV14-3   </td><td>8</td><td>0</td><td>0</td><td>0</td><td>0</td><td>0</td><td>0</td><td>0</td><td>21</td><td>0</td><td> 0</td><td>0</td></tr>\n",
       "\t<tr><th scope=row>4</th><td>CARNGYYYAMDYW_IGHV2-2   </td><td>5</td><td>0</td><td>0</td><td>0</td><td>0</td><td>0</td><td>2</td><td>5</td><td> 7</td><td>7</td><td>14</td><td>2</td></tr>\n",
       "\t<tr><th scope=row>5</th><td>CVRDGDYDVDWFAYW_IGHV10-3</td><td>5</td><td>0</td><td>0</td><td>0</td><td>0</td><td>0</td><td>0</td><td>0</td><td> 0</td><td>0</td><td> 0</td><td>0</td></tr>\n",
       "\t<tr><th scope=row>6</th><td>CAKRYYGNVGYFDYW_IGHV1-64</td><td>4</td><td>0</td><td>0</td><td>0</td><td>0</td><td>0</td><td>0</td><td>0</td><td> 2</td><td>0</td><td> 0</td><td>0</td></tr>\n",
       "</tbody>\n",
       "</table>\n"
      ],
      "text/latex": [
       "A data.frame: 6 × 13\n",
       "\\begin{tabular}{r|lllllllllllll}\n",
       "  & clonotype & E1 & E2 & E3 & E4 & L1 & L2 & L3 & L4 & S1 & S2 & S3 & S4\\\\\n",
       "  & <chr> & <dbl> & <dbl> & <dbl> & <dbl> & <dbl> & <dbl> & <dbl> & <dbl> & <dbl> & <dbl> & <dbl> & <dbl>\\\\\n",
       "\\hline\n",
       "\t1 & CARAPYGNYRFAYW\\_IGHV9-3   & 5 & 0 & 0 & 0 & 0 & 0 & 0 & 0 &  2 & 0 &  0 & 0\\\\\n",
       "\t2 & CARYRSGYDAMDYW\\_IGHV1-18  & 4 & 0 & 0 & 0 & 0 & 0 & 0 & 0 &  0 & 0 &  0 & 0\\\\\n",
       "\t3 & CSIYYSFPFEYW\\_IGHV14-3    & 8 & 0 & 0 & 0 & 0 & 0 & 0 & 0 & 21 & 0 &  0 & 0\\\\\n",
       "\t4 & CARNGYYYAMDYW\\_IGHV2-2    & 5 & 0 & 0 & 0 & 0 & 0 & 2 & 5 &  7 & 7 & 14 & 2\\\\\n",
       "\t5 & CVRDGDYDVDWFAYW\\_IGHV10-3 & 5 & 0 & 0 & 0 & 0 & 0 & 0 & 0 &  0 & 0 &  0 & 0\\\\\n",
       "\t6 & CAKRYYGNVGYFDYW\\_IGHV1-64 & 4 & 0 & 0 & 0 & 0 & 0 & 0 & 0 &  2 & 0 &  0 & 0\\\\\n",
       "\\end{tabular}\n"
      ],
      "text/markdown": [
       "\n",
       "A data.frame: 6 × 13\n",
       "\n",
       "| <!--/--> | clonotype &lt;chr&gt; | E1 &lt;dbl&gt; | E2 &lt;dbl&gt; | E3 &lt;dbl&gt; | E4 &lt;dbl&gt; | L1 &lt;dbl&gt; | L2 &lt;dbl&gt; | L3 &lt;dbl&gt; | L4 &lt;dbl&gt; | S1 &lt;dbl&gt; | S2 &lt;dbl&gt; | S3 &lt;dbl&gt; | S4 &lt;dbl&gt; |\n",
       "|---|---|---|---|---|---|---|---|---|---|---|---|---|---|\n",
       "| 1 | CARAPYGNYRFAYW_IGHV9-3   | 5 | 0 | 0 | 0 | 0 | 0 | 0 | 0 |  2 | 0 |  0 | 0 |\n",
       "| 2 | CARYRSGYDAMDYW_IGHV1-18  | 4 | 0 | 0 | 0 | 0 | 0 | 0 | 0 |  0 | 0 |  0 | 0 |\n",
       "| 3 | CSIYYSFPFEYW_IGHV14-3    | 8 | 0 | 0 | 0 | 0 | 0 | 0 | 0 | 21 | 0 |  0 | 0 |\n",
       "| 4 | CARNGYYYAMDYW_IGHV2-2    | 5 | 0 | 0 | 0 | 0 | 0 | 2 | 5 |  7 | 7 | 14 | 2 |\n",
       "| 5 | CVRDGDYDVDWFAYW_IGHV10-3 | 5 | 0 | 0 | 0 | 0 | 0 | 0 | 0 |  0 | 0 |  0 | 0 |\n",
       "| 6 | CAKRYYGNVGYFDYW_IGHV1-64 | 4 | 0 | 0 | 0 | 0 | 0 | 0 | 0 |  2 | 0 |  0 | 0 |\n",
       "\n"
      ],
      "text/plain": [
       "  clonotype                E1 E2 E3 E4 L1 L2 L3 L4 S1 S2 S3 S4\n",
       "1 CARAPYGNYRFAYW_IGHV9-3   5  0  0  0  0  0  0  0   2 0   0 0 \n",
       "2 CARYRSGYDAMDYW_IGHV1-18  4  0  0  0  0  0  0  0   0 0   0 0 \n",
       "3 CSIYYSFPFEYW_IGHV14-3    8  0  0  0  0  0  0  0  21 0   0 0 \n",
       "4 CARNGYYYAMDYW_IGHV2-2    5  0  0  0  0  0  2  5   7 7  14 2 \n",
       "5 CVRDGDYDVDWFAYW_IGHV10-3 5  0  0  0  0  0  0  0   0 0   0 0 \n",
       "6 CAKRYYGNVGYFDYW_IGHV1-64 4  0  0  0  0  0  0  0   2 0   0 0 "
      ]
     },
     "metadata": {},
     "output_type": "display_data"
    },
    {
     "data": {
      "text/html": [
       "<table class=\"dataframe\">\n",
       "<caption>A data.frame: 6 × 14</caption>\n",
       "<thead>\n",
       "\t<tr><th></th><th scope=col>clonotype</th><th scope=col>v_mismatches</th><th scope=col>E1</th><th scope=col>E2</th><th scope=col>E3</th><th scope=col>E4</th><th scope=col>L1</th><th scope=col>L2</th><th scope=col>L3</th><th scope=col>L4</th><th scope=col>S1</th><th scope=col>S2</th><th scope=col>S3</th><th scope=col>S4</th></tr>\n",
       "\t<tr><th></th><th scope=col>&lt;chr&gt;</th><th scope=col>&lt;dbl&gt;</th><th scope=col>&lt;dbl&gt;</th><th scope=col>&lt;dbl&gt;</th><th scope=col>&lt;dbl&gt;</th><th scope=col>&lt;dbl&gt;</th><th scope=col>&lt;dbl&gt;</th><th scope=col>&lt;dbl&gt;</th><th scope=col>&lt;dbl&gt;</th><th scope=col>&lt;dbl&gt;</th><th scope=col>&lt;dbl&gt;</th><th scope=col>&lt;dbl&gt;</th><th scope=col>&lt;dbl&gt;</th><th scope=col>&lt;dbl&gt;</th></tr>\n",
       "</thead>\n",
       "<tbody>\n",
       "\t<tr><th scope=row>1</th><td>CARAPYGNYRFAYW_IGHV9-3_0  </td><td> 0</td><td>3</td><td>0</td><td>0</td><td>0</td><td>0</td><td>0</td><td>0</td><td>0</td><td>1</td><td>0</td><td>0</td><td>0</td></tr>\n",
       "\t<tr><th scope=row>2</th><td>CARYRSGYDAMDYW_IGHV1-18_0 </td><td> 0</td><td>2</td><td>0</td><td>0</td><td>0</td><td>0</td><td>0</td><td>0</td><td>0</td><td>0</td><td>0</td><td>0</td><td>0</td></tr>\n",
       "\t<tr><th scope=row>3</th><td>CSIYYSFPFEYW_IGHV14-3_11  </td><td>11</td><td>3</td><td>0</td><td>0</td><td>0</td><td>0</td><td>0</td><td>0</td><td>0</td><td>5</td><td>0</td><td>0</td><td>0</td></tr>\n",
       "\t<tr><th scope=row>4</th><td>CARNGYYYAMDYW_IGHV2-2_5   </td><td> 5</td><td>2</td><td>0</td><td>0</td><td>0</td><td>0</td><td>0</td><td>0</td><td>0</td><td>2</td><td>0</td><td>3</td><td>0</td></tr>\n",
       "\t<tr><th scope=row>5</th><td>CVRDGDYDVDWFAYW_IGHV10-3_4</td><td> 4</td><td>1</td><td>0</td><td>0</td><td>0</td><td>0</td><td>0</td><td>0</td><td>0</td><td>0</td><td>0</td><td>0</td><td>0</td></tr>\n",
       "\t<tr><th scope=row>6</th><td>CAKRYYGNVGYFDYW_IGHV1-64_1</td><td> 1</td><td>2</td><td>0</td><td>0</td><td>0</td><td>0</td><td>0</td><td>0</td><td>0</td><td>1</td><td>0</td><td>0</td><td>0</td></tr>\n",
       "</tbody>\n",
       "</table>\n"
      ],
      "text/latex": [
       "A data.frame: 6 × 14\n",
       "\\begin{tabular}{r|llllllllllllll}\n",
       "  & clonotype & v\\_mismatches & E1 & E2 & E3 & E4 & L1 & L2 & L3 & L4 & S1 & S2 & S3 & S4\\\\\n",
       "  & <chr> & <dbl> & <dbl> & <dbl> & <dbl> & <dbl> & <dbl> & <dbl> & <dbl> & <dbl> & <dbl> & <dbl> & <dbl> & <dbl>\\\\\n",
       "\\hline\n",
       "\t1 & CARAPYGNYRFAYW\\_IGHV9-3\\_0   &  0 & 3 & 0 & 0 & 0 & 0 & 0 & 0 & 0 & 1 & 0 & 0 & 0\\\\\n",
       "\t2 & CARYRSGYDAMDYW\\_IGHV1-18\\_0  &  0 & 2 & 0 & 0 & 0 & 0 & 0 & 0 & 0 & 0 & 0 & 0 & 0\\\\\n",
       "\t3 & CSIYYSFPFEYW\\_IGHV14-3\\_11   & 11 & 3 & 0 & 0 & 0 & 0 & 0 & 0 & 0 & 5 & 0 & 0 & 0\\\\\n",
       "\t4 & CARNGYYYAMDYW\\_IGHV2-2\\_5    &  5 & 2 & 0 & 0 & 0 & 0 & 0 & 0 & 0 & 2 & 0 & 3 & 0\\\\\n",
       "\t5 & CVRDGDYDVDWFAYW\\_IGHV10-3\\_4 &  4 & 1 & 0 & 0 & 0 & 0 & 0 & 0 & 0 & 0 & 0 & 0 & 0\\\\\n",
       "\t6 & CAKRYYGNVGYFDYW\\_IGHV1-64\\_1 &  1 & 2 & 0 & 0 & 0 & 0 & 0 & 0 & 0 & 1 & 0 & 0 & 0\\\\\n",
       "\\end{tabular}\n"
      ],
      "text/markdown": [
       "\n",
       "A data.frame: 6 × 14\n",
       "\n",
       "| <!--/--> | clonotype &lt;chr&gt; | v_mismatches &lt;dbl&gt; | E1 &lt;dbl&gt; | E2 &lt;dbl&gt; | E3 &lt;dbl&gt; | E4 &lt;dbl&gt; | L1 &lt;dbl&gt; | L2 &lt;dbl&gt; | L3 &lt;dbl&gt; | L4 &lt;dbl&gt; | S1 &lt;dbl&gt; | S2 &lt;dbl&gt; | S3 &lt;dbl&gt; | S4 &lt;dbl&gt; |\n",
       "|---|---|---|---|---|---|---|---|---|---|---|---|---|---|---|\n",
       "| 1 | CARAPYGNYRFAYW_IGHV9-3_0   |  0 | 3 | 0 | 0 | 0 | 0 | 0 | 0 | 0 | 1 | 0 | 0 | 0 |\n",
       "| 2 | CARYRSGYDAMDYW_IGHV1-18_0  |  0 | 2 | 0 | 0 | 0 | 0 | 0 | 0 | 0 | 0 | 0 | 0 | 0 |\n",
       "| 3 | CSIYYSFPFEYW_IGHV14-3_11   | 11 | 3 | 0 | 0 | 0 | 0 | 0 | 0 | 0 | 5 | 0 | 0 | 0 |\n",
       "| 4 | CARNGYYYAMDYW_IGHV2-2_5    |  5 | 2 | 0 | 0 | 0 | 0 | 0 | 0 | 0 | 2 | 0 | 3 | 0 |\n",
       "| 5 | CVRDGDYDVDWFAYW_IGHV10-3_4 |  4 | 1 | 0 | 0 | 0 | 0 | 0 | 0 | 0 | 0 | 0 | 0 | 0 |\n",
       "| 6 | CAKRYYGNVGYFDYW_IGHV1-64_1 |  1 | 2 | 0 | 0 | 0 | 0 | 0 | 0 | 0 | 1 | 0 | 0 | 0 |\n",
       "\n"
      ],
      "text/plain": [
       "  clonotype                  v_mismatches E1 E2 E3 E4 L1 L2 L3 L4 S1 S2 S3 S4\n",
       "1 CARAPYGNYRFAYW_IGHV9-3_0    0           3  0  0  0  0  0  0  0  1  0  0  0 \n",
       "2 CARYRSGYDAMDYW_IGHV1-18_0   0           2  0  0  0  0  0  0  0  0  0  0  0 \n",
       "3 CSIYYSFPFEYW_IGHV14-3_11   11           3  0  0  0  0  0  0  0  5  0  0  0 \n",
       "4 CARNGYYYAMDYW_IGHV2-2_5     5           2  0  0  0  0  0  0  0  2  0  3  0 \n",
       "5 CVRDGDYDVDWFAYW_IGHV10-3_4  4           1  0  0  0  0  0  0  0  0  0  0  0 \n",
       "6 CAKRYYGNVGYFDYW_IGHV1-64_1  1           2  0  0  0  0  0  0  0  1  0  0  0 "
      ]
     },
     "metadata": {},
     "output_type": "display_data"
    }
   ],
   "source": [
    "results_all_samples_simple <- tibble()\n",
    "results_all_samples_with_SHM <- tibble()\n",
    "\n",
    "for (sample in samples) {\n",
    "    sample1 <- paste0('./2404-iR-0005_NIH_additional_analysisfinal/cdr2_fr4_airr/', sample, '__IGH.csv' )\n",
    "    sample2 <- paste0('./2404-iR-0005_NIH_additional_analysisfinal/cdr2_fr4_airr/', sample, '_r__IGH.csv' )\n",
    "\n",
    "    table1 <- read.csv(file = sample1)\n",
    "    table2 <- read.csv(file = sample2)\n",
    "\n",
    "    table1 <- table1 |>\n",
    "    select(all_of(c('junction_aa', 'v_call', 'v_mismatches')))\n",
    "\n",
    "    table2 <- table2 |>\n",
    "    select(all_of(c('junction_aa', 'v_call', 'v_mismatches')))\n",
    "\n",
    "    table <- bind_rows(table1, table2)  |>\n",
    "        rename('junction_aa' = 'CDR3') |>\n",
    "        mutate(clonotype  =  paste(CDR3, v_call, v_mismatches, sep = '_')) |> \n",
    "        select(-c(CDR3, v_call)) |>\n",
    "        relocate(clonotype) |> \n",
    "        add_count(clonotype, v_mismatches, name = sample)  |>\n",
    "        distinct()  \n",
    "    \n",
    "    table_simple  <- bind_rows(table1, table2)  |>\n",
    "        rename('junction_aa' = 'CDR3') |>\n",
    "        select(-v_mismatches) |> \n",
    "        mutate(clonotype  =  paste(CDR3, v_call,sep = '_')) |> \n",
    "        select(-c(CDR3, v_call)) |>\n",
    "        relocate(clonotype) |> \n",
    "        add_count(clonotype, name =  sample)   |>\n",
    "        distinct()\n",
    "    \n",
    "    if (nrow(results_all_samples_simple) == 0) {\n",
    "        results_all_samples_simple <- table_simple\n",
    "        results_all_samples_with_SHM <- table \n",
    "    } else {\n",
    "        results_all_samples_simple <- full_join(results_all_samples_simple, table_simple, by = 'clonotype') |>\n",
    "                mutate_all(~replace(., is.na(.), 0))  \n",
    "\n",
    "        results_all_samples_with_SHM <- full_join(results_all_samples_with_SHM, table, by = c( 'clonotype' ,  'v_mismatches' )) |>\n",
    "                mutate_all(~replace(., is.na(.), 0))\n",
    "    }\n",
    "        \n",
    "}\n",
    "\n",
    "head(results_all_samples_simple)\n",
    "head(results_all_samples_with_SHM)\n",
    "\n",
    "write.csv(results_all_samples_simple, file = 'results_all_samples_simple.csv', row.names = F)\n",
    "\n",
    "write.csv(results_all_samples_with_SHM, file = 'results_all_samples_with_SHM.csv', row.names = F)"
   ]
  },
  {
   "cell_type": "markdown",
   "metadata": {},
   "source": [
    "# Percentage overlap final"
   ]
  },
  {
   "cell_type": "markdown",
   "metadata": {},
   "source": [
    "## Total sequences"
   ]
  },
  {
   "cell_type": "code",
   "execution_count": 7,
   "metadata": {
    "vscode": {
     "languageId": "r"
    }
   },
   "outputs": [
    {
     "name": "stderr",
     "output_type": "stream",
     "text": [
      "\u001b[1m\u001b[22mNew names:\n",
      "\u001b[36m•\u001b[39m `mouse` -> `mouse...1`\n",
      "\u001b[36m•\u001b[39m `mouse` -> `mouse...2`\n",
      "\u001b[1m\u001b[22mNew names:\n",
      "\u001b[36m•\u001b[39m `mouse` -> `mouse...3`\n",
      "\u001b[1m\u001b[22mNew names:\n",
      "\u001b[36m•\u001b[39m `mouse` -> `mouse...4`\n"
     ]
    },
    {
     "data": {
      "text/html": [
       "<table class=\"dataframe\">\n",
       "<caption>A tibble: 6 × 5</caption>\n",
       "<thead>\n",
       "\t<tr><th scope=col>Metric</th><th scope=col>mouse...1</th><th scope=col>mouse...2</th><th scope=col>mouse...3</th><th scope=col>mouse...4</th></tr>\n",
       "\t<tr><th scope=col>&lt;chr&gt;</th><th scope=col>&lt;dbl&gt;</th><th scope=col>&lt;dbl&gt;</th><th scope=col>&lt;dbl&gt;</th><th scope=col>&lt;dbl&gt;</th></tr>\n",
       "</thead>\n",
       "<tbody>\n",
       "\t<tr><td>clones_percent_skin_unique               </td><td>94.1176471</td><td>78.3582090</td><td>85.512367</td><td>80.753138</td></tr>\n",
       "\t<tr><td>clones_percent_overlap_with_LN_only      </td><td> 0.3267974</td><td> 0.3731343</td><td> 0.000000</td><td> 1.673640</td></tr>\n",
       "\t<tr><td>clones_percent_overlap_with_spleen_only  </td><td> 3.9215686</td><td>14.5522388</td><td>11.660777</td><td>15.481172</td></tr>\n",
       "\t<tr><td>clones_percent_overlap_with_spleen_and_LN</td><td> 1.6339869</td><td> 6.7164179</td><td> 2.826855</td><td> 2.092050</td></tr>\n",
       "\t<tr><td>sequences_percent_skin_unique            </td><td>89.8916968</td><td>63.2443532</td><td>72.709163</td><td>73.543689</td></tr>\n",
       "\t<tr><td>sequences_percent_overlap_with_LN_only   </td><td> 0.1805054</td><td> 0.2053388</td><td> 0.000000</td><td> 2.669903</td></tr>\n",
       "</tbody>\n",
       "</table>\n"
      ],
      "text/latex": [
       "A tibble: 6 × 5\n",
       "\\begin{tabular}{lllll}\n",
       " Metric & mouse...1 & mouse...2 & mouse...3 & mouse...4\\\\\n",
       " <chr> & <dbl> & <dbl> & <dbl> & <dbl>\\\\\n",
       "\\hline\n",
       "\t clones\\_percent\\_skin\\_unique                & 94.1176471 & 78.3582090 & 85.512367 & 80.753138\\\\\n",
       "\t clones\\_percent\\_overlap\\_with\\_LN\\_only       &  0.3267974 &  0.3731343 &  0.000000 &  1.673640\\\\\n",
       "\t clones\\_percent\\_overlap\\_with\\_spleen\\_only   &  3.9215686 & 14.5522388 & 11.660777 & 15.481172\\\\\n",
       "\t clones\\_percent\\_overlap\\_with\\_spleen\\_and\\_LN &  1.6339869 &  6.7164179 &  2.826855 &  2.092050\\\\\n",
       "\t sequences\\_percent\\_skin\\_unique             & 89.8916968 & 63.2443532 & 72.709163 & 73.543689\\\\\n",
       "\t sequences\\_percent\\_overlap\\_with\\_LN\\_only    &  0.1805054 &  0.2053388 &  0.000000 &  2.669903\\\\\n",
       "\\end{tabular}\n"
      ],
      "text/markdown": [
       "\n",
       "A tibble: 6 × 5\n",
       "\n",
       "| Metric &lt;chr&gt; | mouse...1 &lt;dbl&gt; | mouse...2 &lt;dbl&gt; | mouse...3 &lt;dbl&gt; | mouse...4 &lt;dbl&gt; |\n",
       "|---|---|---|---|---|\n",
       "| clones_percent_skin_unique                | 94.1176471 | 78.3582090 | 85.512367 | 80.753138 |\n",
       "| clones_percent_overlap_with_LN_only       |  0.3267974 |  0.3731343 |  0.000000 |  1.673640 |\n",
       "| clones_percent_overlap_with_spleen_only   |  3.9215686 | 14.5522388 | 11.660777 | 15.481172 |\n",
       "| clones_percent_overlap_with_spleen_and_LN |  1.6339869 |  6.7164179 |  2.826855 |  2.092050 |\n",
       "| sequences_percent_skin_unique             | 89.8916968 | 63.2443532 | 72.709163 | 73.543689 |\n",
       "| sequences_percent_overlap_with_LN_only    |  0.1805054 |  0.2053388 |  0.000000 |  2.669903 |\n",
       "\n"
      ],
      "text/plain": [
       "  Metric                                    mouse...1  mouse...2  mouse...3\n",
       "1 clones_percent_skin_unique                94.1176471 78.3582090 85.512367\n",
       "2 clones_percent_overlap_with_LN_only        0.3267974  0.3731343  0.000000\n",
       "3 clones_percent_overlap_with_spleen_only    3.9215686 14.5522388 11.660777\n",
       "4 clones_percent_overlap_with_spleen_and_LN  1.6339869  6.7164179  2.826855\n",
       "5 sequences_percent_skin_unique             89.8916968 63.2443532 72.709163\n",
       "6 sequences_percent_overlap_with_LN_only     0.1805054  0.2053388  0.000000\n",
       "  mouse...4\n",
       "1 80.753138\n",
       "2  1.673640\n",
       "3 15.481172\n",
       "4  2.092050\n",
       "5 73.543689\n",
       "6  2.669903"
      ]
     },
     "metadata": {},
     "output_type": "display_data"
    }
   ],
   "source": [
    "# results_all_samples_simple\n",
    "# results_all_samples_with_SHM\n",
    "\n",
    "results <- tibble(.rows = 8)\n",
    "sequences_results <- tibble(.rows = 4)\n",
    "\n",
    "for (Mouse in seq(1:4)) {\n",
    "    \n",
    "    mouse <- as.character(Mouse)\n",
    "    skin_mouse <- paste0('E',  mouse )\n",
    "    spleen_mouse <- paste0('S',  mouse )\n",
    "    LN_mouse <- paste0('L',  mouse )\n",
    "    \n",
    "    new_names <- c('skin', 'spleen', 'LN')\n",
    "    names(new_names) <- c(skin_mouse, spleen_mouse, LN_mouse)\n",
    "\n",
    "    results_all_samples_simple_skin <- results_all_samples_simple |> \n",
    "        select(contains(mouse) | clonotype) |> \n",
    "        rename(all_of(new_names)) |> \n",
    "        filter(skin > 0)         \n",
    "\n",
    "    total_unique_clones <- results_all_samples_simple_skin |> pull(clonotype) |> n_distinct()\n",
    "    total_unique_sequences <- results_all_samples_simple_skin |> pull(skin) |> sum()\n",
    "\n",
    "\n",
    "    clones_percent_skin_unique <- results_all_samples_simple_skin |> filter(LN == 0 & spleen == 0) |> pull(clonotype) |> n_distinct()*100/total_unique_clones\n",
    "    sequences_percent_skin_unique <- results_all_samples_simple_skin |> filter(LN == 0 & spleen == 0) |> pull(skin) |> sum()*100/total_unique_sequences\n",
    "\n",
    "    clones_percent_overlap_with_LN_only <- results_all_samples_simple_skin |> filter(LN  >  0 & spleen == 0) |> pull(clonotype) |> n_distinct()*100/total_unique_clones\n",
    "    sequences_percent_overlap_with_LN_only <- results_all_samples_simple_skin |> filter(LN > 0 & spleen == 0) |> pull(skin) |> sum()*100/total_unique_sequences\n",
    "\n",
    "    clones_percent_overlap_with_spleen_only <- results_all_samples_simple_skin |> filter(LN ==  0 & spleen > 0) |> pull(clonotype) |> n_distinct()*100/total_unique_clones\n",
    "    sequences_percent_overlap_with_spleen_only <- results_all_samples_simple_skin |> filter(LN  ==  0 & spleen > 0) |> pull(skin) |> sum()*100/total_unique_sequences\n",
    "\n",
    "    clones_percent_overlap_with_spleen_and_LN <- results_all_samples_simple_skin |> filter(LN >  0 & spleen > 0) |> pull(clonotype) |> n_distinct()*100/total_unique_clones\n",
    "    sequences_percent_overlap_with_spleen_and_LN <- results_all_samples_simple_skin |> filter(LN  >  0 & spleen > 0) |> pull(skin) |> sum()*100/total_unique_sequences\n",
    "\n",
    "    mouse_results <- c(clones_percent_skin_unique, clones_percent_overlap_with_LN_only, clones_percent_overlap_with_spleen_only, clones_percent_overlap_with_spleen_and_LN, sequences_percent_skin_unique, sequences_percent_overlap_with_LN_only, sequences_percent_overlap_with_spleen_only, sequences_percent_overlap_with_spleen_and_LN)\n",
    "\n",
    "\n",
    "    results <- bind_cols(results, tibble(mouse = mouse_results))\n",
    "\n",
    "}\n",
    "row_names  <-  c('clones_percent_skin_unique', 'clones_percent_overlap_with_LN_only', 'clones_percent_overlap_with_spleen_only', 'clones_percent_overlap_with_spleen_and_LN', 'sequences_percent_skin_unique', 'sequences_percent_overlap_with_LN_only', 'sequences_percent_overlap_with_spleen_only', 'sequences_percent_overlap_with_spleen_and_LN')\n",
    "results <- results |> mutate(Metric = row_names) |> relocate(Metric)\n",
    "head(results)\n",
    "\n",
    "write.csv(results, file = 'BCR_total_overlap_between_tissues.csv', row.names = FALSE)\n",
    "\n",
    "\n",
    "\n"
   ]
  },
  {
   "cell_type": "markdown",
   "metadata": {},
   "source": [
    "## Mutated sequences"
   ]
  },
  {
   "cell_type": "code",
   "execution_count": 9,
   "metadata": {
    "vscode": {
     "languageId": "r"
    }
   },
   "outputs": [
    {
     "name": "stderr",
     "output_type": "stream",
     "text": [
      "\u001b[1m\u001b[22mNew names:\n",
      "\u001b[36m•\u001b[39m `mouse` -> `mouse...1`\n",
      "\u001b[36m•\u001b[39m `mouse` -> `mouse...2`\n",
      "\u001b[1m\u001b[22mNew names:\n",
      "\u001b[36m•\u001b[39m `mouse` -> `mouse...3`\n",
      "\u001b[1m\u001b[22mNew names:\n",
      "\u001b[36m•\u001b[39m `mouse` -> `mouse...4`\n"
     ]
    },
    {
     "data": {
      "text/html": [
       "<table class=\"dataframe\">\n",
       "<caption>A tibble: 6 × 5</caption>\n",
       "<thead>\n",
       "\t<tr><th scope=col>Metric</th><th scope=col>mouse...1</th><th scope=col>mouse...2</th><th scope=col>mouse...3</th><th scope=col>mouse...4</th></tr>\n",
       "\t<tr><th scope=col>&lt;chr&gt;</th><th scope=col>&lt;dbl&gt;</th><th scope=col>&lt;dbl&gt;</th><th scope=col>&lt;dbl&gt;</th><th scope=col>&lt;dbl&gt;</th></tr>\n",
       "</thead>\n",
       "<tbody>\n",
       "\t<tr><td>clones_percent_skin_unique               </td><td>92.576419</td><td>76.7241379</td><td>84.3049327</td><td>77.1573604</td></tr>\n",
       "\t<tr><td>clones_percent_overlap_with_LN_only      </td><td> 0.000000</td><td> 0.4310345</td><td> 0.4484305</td><td> 0.5076142</td></tr>\n",
       "\t<tr><td>clones_percent_overlap_with_spleen_only  </td><td> 7.423581</td><td>18.1034483</td><td>13.4529148</td><td>19.7969543</td></tr>\n",
       "\t<tr><td>clones_percent_overlap_with_spleen_and_LN</td><td> 0.000000</td><td> 4.7413793</td><td> 1.7937220</td><td> 2.5380711</td></tr>\n",
       "\t<tr><td>sequences_percent_skin_unique            </td><td>92.140921</td><td>64.9425287</td><td>73.9002933</td><td>73.7931034</td></tr>\n",
       "\t<tr><td>sequences_percent_overlap_with_LN_only   </td><td> 0.000000</td><td> 0.8620690</td><td> 0.5865103</td><td> 0.3448276</td></tr>\n",
       "</tbody>\n",
       "</table>\n"
      ],
      "text/latex": [
       "A tibble: 6 × 5\n",
       "\\begin{tabular}{lllll}\n",
       " Metric & mouse...1 & mouse...2 & mouse...3 & mouse...4\\\\\n",
       " <chr> & <dbl> & <dbl> & <dbl> & <dbl>\\\\\n",
       "\\hline\n",
       "\t clones\\_percent\\_skin\\_unique                & 92.576419 & 76.7241379 & 84.3049327 & 77.1573604\\\\\n",
       "\t clones\\_percent\\_overlap\\_with\\_LN\\_only       &  0.000000 &  0.4310345 &  0.4484305 &  0.5076142\\\\\n",
       "\t clones\\_percent\\_overlap\\_with\\_spleen\\_only   &  7.423581 & 18.1034483 & 13.4529148 & 19.7969543\\\\\n",
       "\t clones\\_percent\\_overlap\\_with\\_spleen\\_and\\_LN &  0.000000 &  4.7413793 &  1.7937220 &  2.5380711\\\\\n",
       "\t sequences\\_percent\\_skin\\_unique             & 92.140921 & 64.9425287 & 73.9002933 & 73.7931034\\\\\n",
       "\t sequences\\_percent\\_overlap\\_with\\_LN\\_only    &  0.000000 &  0.8620690 &  0.5865103 &  0.3448276\\\\\n",
       "\\end{tabular}\n"
      ],
      "text/markdown": [
       "\n",
       "A tibble: 6 × 5\n",
       "\n",
       "| Metric &lt;chr&gt; | mouse...1 &lt;dbl&gt; | mouse...2 &lt;dbl&gt; | mouse...3 &lt;dbl&gt; | mouse...4 &lt;dbl&gt; |\n",
       "|---|---|---|---|---|\n",
       "| clones_percent_skin_unique                | 92.576419 | 76.7241379 | 84.3049327 | 77.1573604 |\n",
       "| clones_percent_overlap_with_LN_only       |  0.000000 |  0.4310345 |  0.4484305 |  0.5076142 |\n",
       "| clones_percent_overlap_with_spleen_only   |  7.423581 | 18.1034483 | 13.4529148 | 19.7969543 |\n",
       "| clones_percent_overlap_with_spleen_and_LN |  0.000000 |  4.7413793 |  1.7937220 |  2.5380711 |\n",
       "| sequences_percent_skin_unique             | 92.140921 | 64.9425287 | 73.9002933 | 73.7931034 |\n",
       "| sequences_percent_overlap_with_LN_only    |  0.000000 |  0.8620690 |  0.5865103 |  0.3448276 |\n",
       "\n"
      ],
      "text/plain": [
       "  Metric                                    mouse...1 mouse...2  mouse...3 \n",
       "1 clones_percent_skin_unique                92.576419 76.7241379 84.3049327\n",
       "2 clones_percent_overlap_with_LN_only        0.000000  0.4310345  0.4484305\n",
       "3 clones_percent_overlap_with_spleen_only    7.423581 18.1034483 13.4529148\n",
       "4 clones_percent_overlap_with_spleen_and_LN  0.000000  4.7413793  1.7937220\n",
       "5 sequences_percent_skin_unique             92.140921 64.9425287 73.9002933\n",
       "6 sequences_percent_overlap_with_LN_only     0.000000  0.8620690  0.5865103\n",
       "  mouse...4 \n",
       "1 77.1573604\n",
       "2  0.5076142\n",
       "3 19.7969543\n",
       "4  2.5380711\n",
       "5 73.7931034\n",
       "6  0.3448276"
      ]
     },
     "metadata": {},
     "output_type": "display_data"
    }
   ],
   "source": [
    "# results_all_samples_simple\n",
    "# results_all_samples_with_SHM\n",
    "\n",
    "results <- tibble(.rows = 8)\n",
    "sequences_results <- tibble(.rows = 4)\n",
    "\n",
    "for (Mouse in seq(1:4)) {\n",
    "    \n",
    "    mouse <- as.character(Mouse)\n",
    "    skin_mouse <- paste0('E',  mouse )\n",
    "    spleen_mouse <- paste0('S',  mouse )\n",
    "    LN_mouse <- paste0('L',  mouse )\n",
    "    \n",
    "    new_names <- c('skin', 'spleen', 'LN')\n",
    "    names(new_names) <- c(skin_mouse, spleen_mouse, LN_mouse)\n",
    "\n",
    "    results_all_samples_SHM_skin <- results_all_samples_with_SHM |> \n",
    "        select(contains(mouse) | clonotype | v_mismatches) |> \n",
    "        rename(all_of(new_names)) |> \n",
    "        filter(skin > 0 & v_mismatches > 0)         \n",
    "\n",
    "    total_unique_clones <- results_all_samples_SHM_skin |> pull(clonotype) |> n_distinct()\n",
    "    total_unique_sequences <- results_all_samples_SHM_skin |> pull(skin) |> sum()\n",
    "\n",
    "\n",
    "    clones_percent_skin_unique <- results_all_samples_SHM_skin |> filter(LN == 0 & spleen == 0) |> pull(clonotype) |> n_distinct()*100/total_unique_clones\n",
    "    sequences_percent_skin_unique <- results_all_samples_SHM_skin |> filter(LN == 0 & spleen == 0) |> pull(skin) |> sum()*100/total_unique_sequences\n",
    "\n",
    "    clones_percent_overlap_with_LN_only <- results_all_samples_SHM_skin |> filter(LN  >  0 & spleen == 0) |> pull(clonotype) |> n_distinct()*100/total_unique_clones\n",
    "    sequences_percent_overlap_with_LN_only <- results_all_samples_SHM_skin |> filter(LN > 0 & spleen == 0) |> pull(skin) |> sum()*100/total_unique_sequences\n",
    "\n",
    "    clones_percent_overlap_with_spleen_only <- results_all_samples_SHM_skin |> filter(LN ==  0 & spleen > 0) |> pull(clonotype) |> n_distinct()*100/total_unique_clones\n",
    "    sequences_percent_overlap_with_spleen_only <- results_all_samples_SHM_skin |> filter(LN  ==  0 & spleen > 0) |> pull(skin) |> sum()*100/total_unique_sequences\n",
    "\n",
    "    clones_percent_overlap_with_spleen_and_LN <- results_all_samples_SHM_skin |> filter(LN >  0 & spleen > 0) |> pull(clonotype) |> n_distinct()*100/total_unique_clones\n",
    "    sequences_percent_overlap_with_spleen_and_LN <- results_all_samples_SHM_skin |> filter(LN  >  0 & spleen > 0) |> pull(skin) |> sum()*100/total_unique_sequences\n",
    "\n",
    "    mouse_results <- c(clones_percent_skin_unique, clones_percent_overlap_with_LN_only, clones_percent_overlap_with_spleen_only, clones_percent_overlap_with_spleen_and_LN, sequences_percent_skin_unique, sequences_percent_overlap_with_LN_only, sequences_percent_overlap_with_spleen_only, sequences_percent_overlap_with_spleen_and_LN)\n",
    "\n",
    "\n",
    "    results <- bind_cols(results, tibble(mouse = mouse_results))\n",
    "\n",
    "}\n",
    "row_names  <-  c('clones_percent_skin_unique', 'clones_percent_overlap_with_LN_only', 'clones_percent_overlap_with_spleen_only', 'clones_percent_overlap_with_spleen_and_LN', 'sequences_percent_skin_unique', 'sequences_percent_overlap_with_LN_only', 'sequences_percent_overlap_with_spleen_only', 'sequences_percent_overlap_with_spleen_and_LN')\n",
    "results <- results |> mutate(Metric = row_names) |> relocate(Metric)\n",
    "head(results)\n",
    "\n",
    "write.csv(results, file = 'BCR_mutated_overlap_between_tissues.csv', row.names = FALSE)\n",
    "\n",
    "\n",
    "\n"
   ]
  },
  {
   "cell_type": "markdown",
   "metadata": {},
   "source": [
    "# D50"
   ]
  },
  {
   "cell_type": "code",
   "execution_count": 20,
   "metadata": {
    "vscode": {
     "languageId": "r"
    }
   },
   "outputs": [
    {
     "data": {
      "text/html": [
       "<table class=\"dataframe\">\n",
       "<caption>A data.frame: 6 × 13</caption>\n",
       "<thead>\n",
       "\t<tr><th></th><th scope=col>clonotype</th><th scope=col>E1</th><th scope=col>E2</th><th scope=col>E3</th><th scope=col>E4</th><th scope=col>L1</th><th scope=col>L2</th><th scope=col>L3</th><th scope=col>L4</th><th scope=col>S1</th><th scope=col>S2</th><th scope=col>S3</th><th scope=col>S4</th></tr>\n",
       "\t<tr><th></th><th scope=col>&lt;chr&gt;</th><th scope=col>&lt;dbl&gt;</th><th scope=col>&lt;dbl&gt;</th><th scope=col>&lt;dbl&gt;</th><th scope=col>&lt;dbl&gt;</th><th scope=col>&lt;dbl&gt;</th><th scope=col>&lt;dbl&gt;</th><th scope=col>&lt;dbl&gt;</th><th scope=col>&lt;dbl&gt;</th><th scope=col>&lt;dbl&gt;</th><th scope=col>&lt;dbl&gt;</th><th scope=col>&lt;dbl&gt;</th><th scope=col>&lt;dbl&gt;</th></tr>\n",
       "</thead>\n",
       "<tbody>\n",
       "\t<tr><th scope=row>1</th><td>CARAPYGNYRFAYW_IGHV9-3  </td><td>5</td><td>0</td><td>0</td><td>0</td><td>0</td><td>0</td><td>0</td><td>0</td><td> 2</td><td>0</td><td> 0</td><td>0</td></tr>\n",
       "\t<tr><th scope=row>2</th><td>CARYRSGYDAMDYW_IGHV1-18 </td><td>4</td><td>0</td><td>0</td><td>0</td><td>0</td><td>0</td><td>0</td><td>0</td><td> 0</td><td>0</td><td> 0</td><td>0</td></tr>\n",
       "\t<tr><th scope=row>3</th><td>CSIYYSFPFEYW_IGHV14-3   </td><td>8</td><td>0</td><td>0</td><td>0</td><td>0</td><td>0</td><td>0</td><td>0</td><td>21</td><td>0</td><td> 0</td><td>0</td></tr>\n",
       "\t<tr><th scope=row>4</th><td>CARNGYYYAMDYW_IGHV2-2   </td><td>5</td><td>0</td><td>0</td><td>0</td><td>0</td><td>0</td><td>2</td><td>5</td><td> 7</td><td>7</td><td>14</td><td>2</td></tr>\n",
       "\t<tr><th scope=row>5</th><td>CVRDGDYDVDWFAYW_IGHV10-3</td><td>5</td><td>0</td><td>0</td><td>0</td><td>0</td><td>0</td><td>0</td><td>0</td><td> 0</td><td>0</td><td> 0</td><td>0</td></tr>\n",
       "\t<tr><th scope=row>6</th><td>CAKRYYGNVGYFDYW_IGHV1-64</td><td>4</td><td>0</td><td>0</td><td>0</td><td>0</td><td>0</td><td>0</td><td>0</td><td> 2</td><td>0</td><td> 0</td><td>0</td></tr>\n",
       "</tbody>\n",
       "</table>\n"
      ],
      "text/latex": [
       "A data.frame: 6 × 13\n",
       "\\begin{tabular}{r|lllllllllllll}\n",
       "  & clonotype & E1 & E2 & E3 & E4 & L1 & L2 & L3 & L4 & S1 & S2 & S3 & S4\\\\\n",
       "  & <chr> & <dbl> & <dbl> & <dbl> & <dbl> & <dbl> & <dbl> & <dbl> & <dbl> & <dbl> & <dbl> & <dbl> & <dbl>\\\\\n",
       "\\hline\n",
       "\t1 & CARAPYGNYRFAYW\\_IGHV9-3   & 5 & 0 & 0 & 0 & 0 & 0 & 0 & 0 &  2 & 0 &  0 & 0\\\\\n",
       "\t2 & CARYRSGYDAMDYW\\_IGHV1-18  & 4 & 0 & 0 & 0 & 0 & 0 & 0 & 0 &  0 & 0 &  0 & 0\\\\\n",
       "\t3 & CSIYYSFPFEYW\\_IGHV14-3    & 8 & 0 & 0 & 0 & 0 & 0 & 0 & 0 & 21 & 0 &  0 & 0\\\\\n",
       "\t4 & CARNGYYYAMDYW\\_IGHV2-2    & 5 & 0 & 0 & 0 & 0 & 0 & 2 & 5 &  7 & 7 & 14 & 2\\\\\n",
       "\t5 & CVRDGDYDVDWFAYW\\_IGHV10-3 & 5 & 0 & 0 & 0 & 0 & 0 & 0 & 0 &  0 & 0 &  0 & 0\\\\\n",
       "\t6 & CAKRYYGNVGYFDYW\\_IGHV1-64 & 4 & 0 & 0 & 0 & 0 & 0 & 0 & 0 &  2 & 0 &  0 & 0\\\\\n",
       "\\end{tabular}\n"
      ],
      "text/markdown": [
       "\n",
       "A data.frame: 6 × 13\n",
       "\n",
       "| <!--/--> | clonotype &lt;chr&gt; | E1 &lt;dbl&gt; | E2 &lt;dbl&gt; | E3 &lt;dbl&gt; | E4 &lt;dbl&gt; | L1 &lt;dbl&gt; | L2 &lt;dbl&gt; | L3 &lt;dbl&gt; | L4 &lt;dbl&gt; | S1 &lt;dbl&gt; | S2 &lt;dbl&gt; | S3 &lt;dbl&gt; | S4 &lt;dbl&gt; |\n",
       "|---|---|---|---|---|---|---|---|---|---|---|---|---|---|\n",
       "| 1 | CARAPYGNYRFAYW_IGHV9-3   | 5 | 0 | 0 | 0 | 0 | 0 | 0 | 0 |  2 | 0 |  0 | 0 |\n",
       "| 2 | CARYRSGYDAMDYW_IGHV1-18  | 4 | 0 | 0 | 0 | 0 | 0 | 0 | 0 |  0 | 0 |  0 | 0 |\n",
       "| 3 | CSIYYSFPFEYW_IGHV14-3    | 8 | 0 | 0 | 0 | 0 | 0 | 0 | 0 | 21 | 0 |  0 | 0 |\n",
       "| 4 | CARNGYYYAMDYW_IGHV2-2    | 5 | 0 | 0 | 0 | 0 | 0 | 2 | 5 |  7 | 7 | 14 | 2 |\n",
       "| 5 | CVRDGDYDVDWFAYW_IGHV10-3 | 5 | 0 | 0 | 0 | 0 | 0 | 0 | 0 |  0 | 0 |  0 | 0 |\n",
       "| 6 | CAKRYYGNVGYFDYW_IGHV1-64 | 4 | 0 | 0 | 0 | 0 | 0 | 0 | 0 |  2 | 0 |  0 | 0 |\n",
       "\n"
      ],
      "text/plain": [
       "  clonotype                E1 E2 E3 E4 L1 L2 L3 L4 S1 S2 S3 S4\n",
       "1 CARAPYGNYRFAYW_IGHV9-3   5  0  0  0  0  0  0  0   2 0   0 0 \n",
       "2 CARYRSGYDAMDYW_IGHV1-18  4  0  0  0  0  0  0  0   0 0   0 0 \n",
       "3 CSIYYSFPFEYW_IGHV14-3    8  0  0  0  0  0  0  0  21 0   0 0 \n",
       "4 CARNGYYYAMDYW_IGHV2-2    5  0  0  0  0  0  2  5   7 7  14 2 \n",
       "5 CVRDGDYDVDWFAYW_IGHV10-3 5  0  0  0  0  0  0  0   0 0   0 0 \n",
       "6 CAKRYYGNVGYFDYW_IGHV1-64 4  0  0  0  0  0  0  0   2 0   0 0 "
      ]
     },
     "metadata": {},
     "output_type": "display_data"
    },
    {
     "data": {
      "text/html": [
       "<table class=\"dataframe\">\n",
       "<caption>A data.frame: 6 × 14</caption>\n",
       "<thead>\n",
       "\t<tr><th></th><th scope=col>clonotype</th><th scope=col>v_mismatches</th><th scope=col>E1</th><th scope=col>E2</th><th scope=col>E3</th><th scope=col>E4</th><th scope=col>L1</th><th scope=col>L2</th><th scope=col>L3</th><th scope=col>L4</th><th scope=col>S1</th><th scope=col>S2</th><th scope=col>S3</th><th scope=col>S4</th></tr>\n",
       "\t<tr><th></th><th scope=col>&lt;chr&gt;</th><th scope=col>&lt;dbl&gt;</th><th scope=col>&lt;dbl&gt;</th><th scope=col>&lt;dbl&gt;</th><th scope=col>&lt;dbl&gt;</th><th scope=col>&lt;dbl&gt;</th><th scope=col>&lt;dbl&gt;</th><th scope=col>&lt;dbl&gt;</th><th scope=col>&lt;dbl&gt;</th><th scope=col>&lt;dbl&gt;</th><th scope=col>&lt;dbl&gt;</th><th scope=col>&lt;dbl&gt;</th><th scope=col>&lt;dbl&gt;</th><th scope=col>&lt;dbl&gt;</th></tr>\n",
       "</thead>\n",
       "<tbody>\n",
       "\t<tr><th scope=row>1</th><td>CARAPYGNYRFAYW_IGHV9-3_0  </td><td> 0</td><td>3</td><td>0</td><td>0</td><td>0</td><td>0</td><td>0</td><td>0</td><td>0</td><td>1</td><td>0</td><td>0</td><td>0</td></tr>\n",
       "\t<tr><th scope=row>2</th><td>CARYRSGYDAMDYW_IGHV1-18_0 </td><td> 0</td><td>2</td><td>0</td><td>0</td><td>0</td><td>0</td><td>0</td><td>0</td><td>0</td><td>0</td><td>0</td><td>0</td><td>0</td></tr>\n",
       "\t<tr><th scope=row>3</th><td>CSIYYSFPFEYW_IGHV14-3_11  </td><td>11</td><td>3</td><td>0</td><td>0</td><td>0</td><td>0</td><td>0</td><td>0</td><td>0</td><td>5</td><td>0</td><td>0</td><td>0</td></tr>\n",
       "\t<tr><th scope=row>4</th><td>CARNGYYYAMDYW_IGHV2-2_5   </td><td> 5</td><td>2</td><td>0</td><td>0</td><td>0</td><td>0</td><td>0</td><td>0</td><td>0</td><td>2</td><td>0</td><td>3</td><td>0</td></tr>\n",
       "\t<tr><th scope=row>5</th><td>CVRDGDYDVDWFAYW_IGHV10-3_4</td><td> 4</td><td>1</td><td>0</td><td>0</td><td>0</td><td>0</td><td>0</td><td>0</td><td>0</td><td>0</td><td>0</td><td>0</td><td>0</td></tr>\n",
       "\t<tr><th scope=row>6</th><td>CAKRYYGNVGYFDYW_IGHV1-64_1</td><td> 1</td><td>2</td><td>0</td><td>0</td><td>0</td><td>0</td><td>0</td><td>0</td><td>0</td><td>1</td><td>0</td><td>0</td><td>0</td></tr>\n",
       "</tbody>\n",
       "</table>\n"
      ],
      "text/latex": [
       "A data.frame: 6 × 14\n",
       "\\begin{tabular}{r|llllllllllllll}\n",
       "  & clonotype & v\\_mismatches & E1 & E2 & E3 & E4 & L1 & L2 & L3 & L4 & S1 & S2 & S3 & S4\\\\\n",
       "  & <chr> & <dbl> & <dbl> & <dbl> & <dbl> & <dbl> & <dbl> & <dbl> & <dbl> & <dbl> & <dbl> & <dbl> & <dbl> & <dbl>\\\\\n",
       "\\hline\n",
       "\t1 & CARAPYGNYRFAYW\\_IGHV9-3\\_0   &  0 & 3 & 0 & 0 & 0 & 0 & 0 & 0 & 0 & 1 & 0 & 0 & 0\\\\\n",
       "\t2 & CARYRSGYDAMDYW\\_IGHV1-18\\_0  &  0 & 2 & 0 & 0 & 0 & 0 & 0 & 0 & 0 & 0 & 0 & 0 & 0\\\\\n",
       "\t3 & CSIYYSFPFEYW\\_IGHV14-3\\_11   & 11 & 3 & 0 & 0 & 0 & 0 & 0 & 0 & 0 & 5 & 0 & 0 & 0\\\\\n",
       "\t4 & CARNGYYYAMDYW\\_IGHV2-2\\_5    &  5 & 2 & 0 & 0 & 0 & 0 & 0 & 0 & 0 & 2 & 0 & 3 & 0\\\\\n",
       "\t5 & CVRDGDYDVDWFAYW\\_IGHV10-3\\_4 &  4 & 1 & 0 & 0 & 0 & 0 & 0 & 0 & 0 & 0 & 0 & 0 & 0\\\\\n",
       "\t6 & CAKRYYGNVGYFDYW\\_IGHV1-64\\_1 &  1 & 2 & 0 & 0 & 0 & 0 & 0 & 0 & 0 & 1 & 0 & 0 & 0\\\\\n",
       "\\end{tabular}\n"
      ],
      "text/markdown": [
       "\n",
       "A data.frame: 6 × 14\n",
       "\n",
       "| <!--/--> | clonotype &lt;chr&gt; | v_mismatches &lt;dbl&gt; | E1 &lt;dbl&gt; | E2 &lt;dbl&gt; | E3 &lt;dbl&gt; | E4 &lt;dbl&gt; | L1 &lt;dbl&gt; | L2 &lt;dbl&gt; | L3 &lt;dbl&gt; | L4 &lt;dbl&gt; | S1 &lt;dbl&gt; | S2 &lt;dbl&gt; | S3 &lt;dbl&gt; | S4 &lt;dbl&gt; |\n",
       "|---|---|---|---|---|---|---|---|---|---|---|---|---|---|---|\n",
       "| 1 | CARAPYGNYRFAYW_IGHV9-3_0   |  0 | 3 | 0 | 0 | 0 | 0 | 0 | 0 | 0 | 1 | 0 | 0 | 0 |\n",
       "| 2 | CARYRSGYDAMDYW_IGHV1-18_0  |  0 | 2 | 0 | 0 | 0 | 0 | 0 | 0 | 0 | 0 | 0 | 0 | 0 |\n",
       "| 3 | CSIYYSFPFEYW_IGHV14-3_11   | 11 | 3 | 0 | 0 | 0 | 0 | 0 | 0 | 0 | 5 | 0 | 0 | 0 |\n",
       "| 4 | CARNGYYYAMDYW_IGHV2-2_5    |  5 | 2 | 0 | 0 | 0 | 0 | 0 | 0 | 0 | 2 | 0 | 3 | 0 |\n",
       "| 5 | CVRDGDYDVDWFAYW_IGHV10-3_4 |  4 | 1 | 0 | 0 | 0 | 0 | 0 | 0 | 0 | 0 | 0 | 0 | 0 |\n",
       "| 6 | CAKRYYGNVGYFDYW_IGHV1-64_1 |  1 | 2 | 0 | 0 | 0 | 0 | 0 | 0 | 0 | 1 | 0 | 0 | 0 |\n",
       "\n"
      ],
      "text/plain": [
       "  clonotype                  v_mismatches E1 E2 E3 E4 L1 L2 L3 L4 S1 S2 S3 S4\n",
       "1 CARAPYGNYRFAYW_IGHV9-3_0    0           3  0  0  0  0  0  0  0  1  0  0  0 \n",
       "2 CARYRSGYDAMDYW_IGHV1-18_0   0           2  0  0  0  0  0  0  0  0  0  0  0 \n",
       "3 CSIYYSFPFEYW_IGHV14-3_11   11           3  0  0  0  0  0  0  0  5  0  0  0 \n",
       "4 CARNGYYYAMDYW_IGHV2-2_5     5           2  0  0  0  0  0  0  0  2  0  3  0 \n",
       "5 CVRDGDYDVDWFAYW_IGHV10-3_4  4           1  0  0  0  0  0  0  0  0  0  0  0 \n",
       "6 CAKRYYGNVGYFDYW_IGHV1-64_1  1           2  0  0  0  0  0  0  0  1  0  0  0 "
      ]
     },
     "metadata": {},
     "output_type": "display_data"
    }
   ],
   "source": [
    "head(results_all_samples_simple)\n",
    "head(results_all_samples_with_SHM)"
   ]
  },
  {
   "cell_type": "markdown",
   "metadata": {},
   "source": [
    "## Without considering SHM"
   ]
  },
  {
   "cell_type": "code",
   "execution_count": 18,
   "metadata": {
    "vscode": {
     "languageId": "r"
    }
   },
   "outputs": [
    {
     "data": {
      "text/html": [
       "<style>\n",
       ".list-inline {list-style: none; margin:0; padding: 0}\n",
       ".list-inline>li {display: inline-block}\n",
       ".list-inline>li:not(:last-child)::after {content: \"\\00b7\"; padding: 0 .5ex}\n",
       "</style>\n",
       "<ol class=list-inline><li>'V1'</li><li>'V2'</li><li>'V3'</li></ol>\n"
      ],
      "text/latex": [
       "\\begin{enumerate*}\n",
       "\\item 'V1'\n",
       "\\item 'V2'\n",
       "\\item 'V3'\n",
       "\\end{enumerate*}\n"
      ],
      "text/markdown": [
       "1. 'V1'\n",
       "2. 'V2'\n",
       "3. 'V3'\n",
       "\n",
       "\n"
      ],
      "text/plain": [
       "[1] \"V1\" \"V2\" \"V3\""
      ]
     },
     "metadata": {},
     "output_type": "display_data"
    },
    {
     "name": "stdout",
     "output_type": "stream",
     "text": [
      "[1] 554\n",
      "[1] 33612\n",
      "[1] 35378\n",
      "[1] \"1\"\n",
      "[1] 487\n",
      "[1] 143766\n",
      "[1] 567435\n",
      "[1] \"2\"\n",
      "[1] 502\n",
      "[1] 64265\n",
      "[1] 273785\n",
      "[1] \"3\"\n",
      "[1] 412\n",
      "[1] 115429\n",
      "[1] 375287\n",
      "[1] \"4\"\n",
      "[1] \"1\" \"2\" \"3\" \"4\"\n"
     ]
    },
    {
     "data": {
      "text/html": [
       "4"
      ],
      "text/latex": [
       "4"
      ],
      "text/markdown": [
       "4"
      ],
      "text/plain": [
       "[1] 4"
      ]
     },
     "metadata": {},
     "output_type": "display_data"
    },
    {
     "data": {
      "text/html": [
       "<style>\n",
       ".list-inline {list-style: none; margin:0; padding: 0}\n",
       ".list-inline>li {display: inline-block}\n",
       ".list-inline>li:not(:last-child)::after {content: \"\\00b7\"; padding: 0 .5ex}\n",
       "</style>\n",
       "<ol class=list-inline><li>'E_D50'</li><li>'L_D50'</li><li>'S_D50'</li></ol>\n"
      ],
      "text/latex": [
       "\\begin{enumerate*}\n",
       "\\item 'E\\_D50'\n",
       "\\item 'L\\_D50'\n",
       "\\item 'S\\_D50'\n",
       "\\end{enumerate*}\n"
      ],
      "text/markdown": [
       "1. 'E_D50'\n",
       "2. 'L_D50'\n",
       "3. 'S_D50'\n",
       "\n",
       "\n"
      ],
      "text/plain": [
       "[1] \"E_D50\" \"L_D50\" \"S_D50\""
      ]
     },
     "metadata": {},
     "output_type": "display_data"
    },
    {
     "data": {
      "text/html": [
       "<table class=\"dataframe\">\n",
       "<caption>A data.frame: 4 × 4</caption>\n",
       "<thead>\n",
       "\t<tr><th scope=col>Mouse</th><th scope=col>E_D50</th><th scope=col>L_D50</th><th scope=col>S_D50</th></tr>\n",
       "\t<tr><th scope=col>&lt;chr&gt;</th><th scope=col>&lt;dbl&gt;</th><th scope=col>&lt;dbl&gt;</th><th scope=col>&lt;dbl&gt;</th></tr>\n",
       "</thead>\n",
       "<tbody>\n",
       "\t<tr><td>1</td><td>17.97386</td><td>35.95274</td><td>25.31802</td></tr>\n",
       "\t<tr><td>2</td><td>18.65672</td><td>37.39723</td><td>32.18361</td></tr>\n",
       "\t<tr><td>3</td><td>18.37456</td><td>36.47094</td><td>36.81346</td></tr>\n",
       "\t<tr><td>4</td><td>20.50209</td><td>38.69237</td><td>36.03583</td></tr>\n",
       "</tbody>\n",
       "</table>\n"
      ],
      "text/latex": [
       "A data.frame: 4 × 4\n",
       "\\begin{tabular}{llll}\n",
       " Mouse & E\\_D50 & L\\_D50 & S\\_D50\\\\\n",
       " <chr> & <dbl> & <dbl> & <dbl>\\\\\n",
       "\\hline\n",
       "\t 1 & 17.97386 & 35.95274 & 25.31802\\\\\n",
       "\t 2 & 18.65672 & 37.39723 & 32.18361\\\\\n",
       "\t 3 & 18.37456 & 36.47094 & 36.81346\\\\\n",
       "\t 4 & 20.50209 & 38.69237 & 36.03583\\\\\n",
       "\\end{tabular}\n"
      ],
      "text/markdown": [
       "\n",
       "A data.frame: 4 × 4\n",
       "\n",
       "| Mouse &lt;chr&gt; | E_D50 &lt;dbl&gt; | L_D50 &lt;dbl&gt; | S_D50 &lt;dbl&gt; |\n",
       "|---|---|---|---|\n",
       "| 1 | 17.97386 | 35.95274 | 25.31802 |\n",
       "| 2 | 18.65672 | 37.39723 | 32.18361 |\n",
       "| 3 | 18.37456 | 36.47094 | 36.81346 |\n",
       "| 4 | 20.50209 | 38.69237 | 36.03583 |\n",
       "\n"
      ],
      "text/plain": [
       "  Mouse E_D50    L_D50    S_D50   \n",
       "1 1     17.97386 35.95274 25.31802\n",
       "2 2     18.65672 37.39723 32.18361\n",
       "3 3     18.37456 36.47094 36.81346\n",
       "4 4     20.50209 38.69237 36.03583"
      ]
     },
     "metadata": {},
     "output_type": "display_data"
    }
   ],
   "source": [
    "tissues <- c('E', 'L', 'S')\n",
    "\n",
    "#Initiating results data frame\n",
    "results <- as.data.frame(matrix(nrow = 0,ncol = length(tissues)))\n",
    "colnames(results)\n",
    "rnames <- c()\n",
    "\n",
    "#Calculate D50\n",
    "for (mouse in seq(1:4)) {\n",
    "    \n",
    "    mouse <- as.character(mouse)\n",
    "    result <- c()\n",
    "    names <- c()\n",
    "\n",
    "    for (tissue in tissues) {\n",
    "        \n",
    "        sample <- paste0(tissue, mouse)\n",
    "        #Extracting data for cell type and mouse\n",
    "        tissue_HTO_data <- results_all_samples_simple |>\n",
    "                                    select(!!as.name(sample)|clonotype) |> \n",
    "                                    filter(!!as.name(sample) > 0) |> \n",
    "                                    arrange(desc(!!as.name(sample))) |>\n",
    "                                    mutate(cumulative = cumsum(!!as.name(sample))) \n",
    "\n",
    "        total_sequences <- tissue_HTO_data |> summarize(sum(!!as.name(sample)))  |> as.numeric()\n",
    "        print(total_sequences)\n",
    "\n",
    "        #Calculating D50\n",
    "        if (total_sequences < 20) {\n",
    "            D50 <- NA \n",
    "        } else {\n",
    "            L50 <- floor(total_sequences/2)\n",
    "            number_unique_50 <- tissue_HTO_data |> filter(cumulative <= L50) %>% summarise(n_distinct(clonotype)) %>% as.numeric()\n",
    "            number_unique_total <- tissue_HTO_data %>% summarise(n_distinct(clonotype)) %>% as.numeric()\n",
    "            D50 <- number_unique_50*100/number_unique_total\n",
    "        }\n",
    "        result <- c(result, D50)\n",
    "    }\n",
    "    results <- rbind(results, result)\n",
    "    rnames <- c(rnames, mouse)\n",
    "    print(mouse)\n",
    "\n",
    "}\n",
    "\n",
    "print(rnames)\n",
    "nrow(results)\n",
    "colnames(results) <- paste0(tissues, '_D50')\n",
    "colnames(results)\n",
    "\n",
    "results <- results %>% mutate(Mouse=rnames) %>% arrange(Mouse) |> relocate(Mouse)\n",
    "results\n",
    "\n",
    "write.csv(results, file=paste0('D50_per_tissue.csv'), row.names=FALSE)"
   ]
  },
  {
   "cell_type": "markdown",
   "metadata": {},
   "source": [
    "## Considering SHM"
   ]
  },
  {
   "cell_type": "code",
   "execution_count": 22,
   "metadata": {
    "vscode": {
     "languageId": "r"
    }
   },
   "outputs": [
    {
     "data": {
      "text/html": [
       "<style>\n",
       ".list-inline {list-style: none; margin:0; padding: 0}\n",
       ".list-inline>li {display: inline-block}\n",
       ".list-inline>li:not(:last-child)::after {content: \"\\00b7\"; padding: 0 .5ex}\n",
       "</style>\n",
       "<ol class=list-inline><li>'V1'</li><li>'V2'</li><li>'V3'</li></ol>\n"
      ],
      "text/latex": [
       "\\begin{enumerate*}\n",
       "\\item 'V1'\n",
       "\\item 'V2'\n",
       "\\item 'V3'\n",
       "\\end{enumerate*}\n"
      ],
      "text/markdown": [
       "1. 'V1'\n",
       "2. 'V2'\n",
       "3. 'V3'\n",
       "\n",
       "\n"
      ],
      "text/plain": [
       "[1] \"V1\" \"V2\" \"V3\""
      ]
     },
     "metadata": {},
     "output_type": "display_data"
    },
    {
     "name": "stdout",
     "output_type": "stream",
     "text": [
      "[1] 554\n",
      "[1] 33612\n",
      "[1] 35378\n",
      "[1] \"1\"\n",
      "[1] 487\n",
      "[1] 143766\n",
      "[1] 567435\n",
      "[1] \"2\"\n",
      "[1] 502\n",
      "[1] 64265\n",
      "[1] 273785\n",
      "[1] \"3\"\n",
      "[1] 412\n",
      "[1] 115429\n",
      "[1] 375287\n",
      "[1] \"4\"\n",
      "[1] \"1\" \"2\" \"3\" \"4\"\n"
     ]
    },
    {
     "data": {
      "text/html": [
       "4"
      ],
      "text/latex": [
       "4"
      ],
      "text/markdown": [
       "4"
      ],
      "text/plain": [
       "[1] 4"
      ]
     },
     "metadata": {},
     "output_type": "display_data"
    },
    {
     "data": {
      "text/html": [
       "<style>\n",
       ".list-inline {list-style: none; margin:0; padding: 0}\n",
       ".list-inline>li {display: inline-block}\n",
       ".list-inline>li:not(:last-child)::after {content: \"\\00b7\"; padding: 0 .5ex}\n",
       "</style>\n",
       "<ol class=list-inline><li>'E_D50'</li><li>'L_D50'</li><li>'S_D50'</li></ol>\n"
      ],
      "text/latex": [
       "\\begin{enumerate*}\n",
       "\\item 'E\\_D50'\n",
       "\\item 'L\\_D50'\n",
       "\\item 'S\\_D50'\n",
       "\\end{enumerate*}\n"
      ],
      "text/markdown": [
       "1. 'E_D50'\n",
       "2. 'L_D50'\n",
       "3. 'S_D50'\n",
       "\n",
       "\n"
      ],
      "text/plain": [
       "[1] \"E_D50\" \"L_D50\" \"S_D50\""
      ]
     },
     "metadata": {},
     "output_type": "display_data"
    },
    {
     "data": {
      "text/html": [
       "<table class=\"dataframe\">\n",
       "<caption>A data.frame: 4 × 4</caption>\n",
       "<thead>\n",
       "\t<tr><th scope=col>Mouse</th><th scope=col>E_D50</th><th scope=col>L_D50</th><th scope=col>S_D50</th></tr>\n",
       "\t<tr><th scope=col>&lt;chr&gt;</th><th scope=col>&lt;dbl&gt;</th><th scope=col>&lt;dbl&gt;</th><th scope=col>&lt;dbl&gt;</th></tr>\n",
       "</thead>\n",
       "<tbody>\n",
       "\t<tr><td>1</td><td>30.75000</td><td>45.96489</td><td>41.60504</td></tr>\n",
       "\t<tr><td>2</td><td>33.51499</td><td>45.18522</td><td>39.50227</td></tr>\n",
       "\t<tr><td>3</td><td>32.52688</td><td>46.24881</td><td>43.25326</td></tr>\n",
       "\t<tr><td>4</td><td>32.67974</td><td>45.90149</td><td>42.45867</td></tr>\n",
       "</tbody>\n",
       "</table>\n"
      ],
      "text/latex": [
       "A data.frame: 4 × 4\n",
       "\\begin{tabular}{llll}\n",
       " Mouse & E\\_D50 & L\\_D50 & S\\_D50\\\\\n",
       " <chr> & <dbl> & <dbl> & <dbl>\\\\\n",
       "\\hline\n",
       "\t 1 & 30.75000 & 45.96489 & 41.60504\\\\\n",
       "\t 2 & 33.51499 & 45.18522 & 39.50227\\\\\n",
       "\t 3 & 32.52688 & 46.24881 & 43.25326\\\\\n",
       "\t 4 & 32.67974 & 45.90149 & 42.45867\\\\\n",
       "\\end{tabular}\n"
      ],
      "text/markdown": [
       "\n",
       "A data.frame: 4 × 4\n",
       "\n",
       "| Mouse &lt;chr&gt; | E_D50 &lt;dbl&gt; | L_D50 &lt;dbl&gt; | S_D50 &lt;dbl&gt; |\n",
       "|---|---|---|---|\n",
       "| 1 | 30.75000 | 45.96489 | 41.60504 |\n",
       "| 2 | 33.51499 | 45.18522 | 39.50227 |\n",
       "| 3 | 32.52688 | 46.24881 | 43.25326 |\n",
       "| 4 | 32.67974 | 45.90149 | 42.45867 |\n",
       "\n"
      ],
      "text/plain": [
       "  Mouse E_D50    L_D50    S_D50   \n",
       "1 1     30.75000 45.96489 41.60504\n",
       "2 2     33.51499 45.18522 39.50227\n",
       "3 3     32.52688 46.24881 43.25326\n",
       "4 4     32.67974 45.90149 42.45867"
      ]
     },
     "metadata": {},
     "output_type": "display_data"
    }
   ],
   "source": [
    "tissues <- c('E', 'L', 'S')\n",
    "\n",
    "#Initiating results data frame\n",
    "results <- as.data.frame(matrix(nrow = 0,ncol = length(tissues)))\n",
    "colnames(results)\n",
    "rnames <- c()\n",
    "\n",
    "#Calculate D50\n",
    "for (mouse in seq(1:4)) {\n",
    "    \n",
    "    mouse <- as.character(mouse)\n",
    "    result <- c()\n",
    "    names <- c()\n",
    "\n",
    "    for (tissue in tissues) {\n",
    "        \n",
    "        sample <- paste0(tissue, mouse)\n",
    "        #Extracting data for cell type and mouse\n",
    "        tissue_HTO_data <- results_all_samples_with_SHM |>\n",
    "                                    select(!!as.name(sample)|clonotype) |> \n",
    "                                    filter(!!as.name(sample) > 0) |> \n",
    "                                    arrange(desc(!!as.name(sample))) |>\n",
    "                                    mutate(cumulative = cumsum(!!as.name(sample))) \n",
    "\n",
    "        total_sequences <- tissue_HTO_data |> summarize(sum(!!as.name(sample)))  |> as.numeric()\n",
    "        print(total_sequences)\n",
    "\n",
    "        #Calculating D50\n",
    "        if (total_sequences < 20) {\n",
    "            D50 <- NA \n",
    "        } else {\n",
    "            L50 <- floor(total_sequences/2)\n",
    "            number_unique_50 <- tissue_HTO_data |> filter(cumulative <= L50) %>% summarise(n_distinct(clonotype)) %>% as.numeric()\n",
    "            number_unique_total <- tissue_HTO_data %>% summarise(n_distinct(clonotype)) %>% as.numeric()\n",
    "            D50 <- number_unique_50*100/number_unique_total\n",
    "        }\n",
    "        result <- c(result, D50)\n",
    "    }\n",
    "    results <- rbind(results, result)\n",
    "    rnames <- c(rnames, mouse)\n",
    "    print(mouse)\n",
    "\n",
    "}\n",
    "\n",
    "print(rnames)\n",
    "nrow(results)\n",
    "colnames(results) <- paste0(tissues, '_D50')\n",
    "colnames(results)\n",
    "\n",
    "results <- results %>% mutate(Mouse=rnames) %>% arrange(Mouse) |> relocate(Mouse)\n",
    "results\n",
    "\n",
    "write.csv(results, file=paste0('D50_per_tissue_with_SHM.csv'), row.names=FALSE)"
   ]
  },
  {
   "cell_type": "markdown",
   "metadata": {},
   "source": [
    "# Remaking file to incorporate SHM and replicates and isotype"
   ]
  },
  {
   "cell_type": "code",
   "execution_count": 11,
   "metadata": {
    "vscode": {
     "languageId": "r"
    }
   },
   "outputs": [],
   "source": [
    "samples <- c('E1', 'E2', 'E3', 'E4', 'S1', 'S2', 'S3', 'S4')\n",
    "\n",
    "files <- c('./2404-iR-0005_NIH_additional_analysisfinal/cdr2_fr4_airr/E1__IGH.csv' ,\n",
    "'./2404-iR-0005_NIH_additional_analysisfinal/cdr2_fr4_airr/E1_r__IGH.csv' ,\n",
    "'./2404-iR-0005_NIH_additional_analysisfinal/cdr2_fr4_airr/E2__IGH.csv' ,\n",
    "'./2404-iR-0005_NIH_additional_analysisfinal/cdr2_fr4_airr/E2_r__IGH.csv' ,\n",
    "'./2404-iR-0005_NIH_additional_analysisfinal/cdr2_fr4_airr/E3__IGH.csv' ,\n",
    "'./2404-iR-0005_NIH_additional_analysisfinal/cdr2_fr4_airr/E3_r__IGH.csv' ,\n",
    "'./2404-iR-0005_NIH_additional_analysisfinal/cdr2_fr4_airr/E4__IGH.csv' ,\n",
    "'./2404-iR-0005_NIH_additional_analysisfinal/cdr2_fr4_airr/E4_r__IGH.csv' ,\n",
    "'./2404-iR-0005_NIH_additional_analysisfinal/cdr2_fr4_airr/L1__IGH.csv' ,\n",
    "'./2404-iR-0005_NIH_additional_analysisfinal/cdr2_fr4_airr/L1_r__IGH.csv' ,\n",
    "'./2404-iR-0005_NIH_additional_analysisfinal/cdr2_fr4_airr/L2__IGH.csv' ,\n",
    "'./2404-iR-0005_NIH_additional_analysisfinal/cdr2_fr4_airr/L2_r__IGH.csv' ,\n",
    "'./2404-iR-0005_NIH_additional_analysisfinal/cdr2_fr4_airr/L3__IGH.csv' ,\n",
    "'./2404-iR-0005_NIH_additional_analysisfinal/cdr2_fr4_airr/L3_r__IGH.csv' ,\n",
    "'./2404-iR-0005_NIH_additional_analysisfinal/cdr2_fr4_airr/L4__IGH.csv' ,\n",
    "'./2404-iR-0005_NIH_additional_analysisfinal/cdr2_fr4_airr/L4_r__IGH.csv' ,\n",
    "'./2404-iR-0005_NIH_additional_analysisfinal/cdr2_fr4_airr/S1__IGH.csv' ,\n",
    "'./2404-iR-0005_NIH_additional_analysisfinal/cdr2_fr4_airr/S1_r__IGH.csv' ,\n",
    "'./2404-iR-0005_NIH_additional_analysisfinal/cdr2_fr4_airr/S2__IGH.csv' ,\n",
    "'./2404-iR-0005_NIH_additional_analysisfinal/cdr2_fr4_airr/S2_r__IGH.csv' ,\n",
    "'./2404-iR-0005_NIH_additional_analysisfinal/cdr2_fr4_airr/S3__IGH.csv' ,\n",
    "'./2404-iR-0005_NIH_additional_analysisfinal/cdr2_fr4_airr/S3_r__IGH.csv' ,\n",
    "'./2404-iR-0005_NIH_additional_analysisfinal/cdr2_fr4_airr/S4__IGH.csv' ,\n",
    "'./2404-iR-0005_NIH_additional_analysisfinal/cdr2_fr4_airr/S4_r__IGH.csv')"
   ]
  },
  {
   "cell_type": "code",
   "execution_count": 7,
   "metadata": {
    "vscode": {
     "languageId": "r"
    }
   },
   "outputs": [
    {
     "data": {
      "text/html": [
       "403"
      ],
      "text/latex": [
       "403"
      ],
      "text/markdown": [
       "403"
      ],
      "text/plain": [
       "[1] 403"
      ]
     },
     "metadata": {},
     "output_type": "display_data"
    },
    {
     "data": {
      "text/html": [
       "306"
      ],
      "text/latex": [
       "306"
      ],
      "text/markdown": [
       "306"
      ],
      "text/plain": [
       "[1] 306"
      ]
     },
     "metadata": {},
     "output_type": "display_data"
    },
    {
     "data": {
      "text/html": [
       "<table class=\"dataframe\">\n",
       "<caption>A data.frame: 6 × 4</caption>\n",
       "<thead>\n",
       "\t<tr><th></th><th scope=col>clonotype</th><th scope=col>v_mismatches</th><th scope=col>c_call</th><th scope=col>clonotype_count</th></tr>\n",
       "\t<tr><th></th><th scope=col>&lt;chr&gt;</th><th scope=col>&lt;int&gt;</th><th scope=col>&lt;chr&gt;</th><th scope=col>&lt;int&gt;</th></tr>\n",
       "</thead>\n",
       "<tbody>\n",
       "\t<tr><th scope=row>1</th><td>CARAPYGNYRFAYW_IGHV9-3  </td><td> 0</td><td>IGHA</td><td>5</td></tr>\n",
       "\t<tr><th scope=row>2</th><td>CARYRSGYDAMDYW_IGHV1-18 </td><td> 0</td><td>IGHA</td><td>4</td></tr>\n",
       "\t<tr><th scope=row>3</th><td>CSIYYSFPFEYW_IGHV14-3   </td><td>11</td><td>IGHA</td><td>8</td></tr>\n",
       "\t<tr><th scope=row>4</th><td>CARNGYYYAMDYW_IGHV2-2   </td><td> 5</td><td>IGHA</td><td>5</td></tr>\n",
       "\t<tr><th scope=row>5</th><td>CVRDGDYDVDWFAYW_IGHV10-3</td><td> 4</td><td>IGHA</td><td>5</td></tr>\n",
       "\t<tr><th scope=row>6</th><td>CAKRYYGNVGYFDYW_IGHV1-64</td><td> 1</td><td>IGHA</td><td>4</td></tr>\n",
       "</tbody>\n",
       "</table>\n"
      ],
      "text/latex": [
       "A data.frame: 6 × 4\n",
       "\\begin{tabular}{r|llll}\n",
       "  & clonotype & v\\_mismatches & c\\_call & clonotype\\_count\\\\\n",
       "  & <chr> & <int> & <chr> & <int>\\\\\n",
       "\\hline\n",
       "\t1 & CARAPYGNYRFAYW\\_IGHV9-3   &  0 & IGHA & 5\\\\\n",
       "\t2 & CARYRSGYDAMDYW\\_IGHV1-18  &  0 & IGHA & 4\\\\\n",
       "\t3 & CSIYYSFPFEYW\\_IGHV14-3    & 11 & IGHA & 8\\\\\n",
       "\t4 & CARNGYYYAMDYW\\_IGHV2-2    &  5 & IGHA & 5\\\\\n",
       "\t5 & CVRDGDYDVDWFAYW\\_IGHV10-3 &  4 & IGHA & 5\\\\\n",
       "\t6 & CAKRYYGNVGYFDYW\\_IGHV1-64 &  1 & IGHA & 4\\\\\n",
       "\\end{tabular}\n"
      ],
      "text/markdown": [
       "\n",
       "A data.frame: 6 × 4\n",
       "\n",
       "| <!--/--> | clonotype &lt;chr&gt; | v_mismatches &lt;int&gt; | c_call &lt;chr&gt; | clonotype_count &lt;int&gt; |\n",
       "|---|---|---|---|---|\n",
       "| 1 | CARAPYGNYRFAYW_IGHV9-3   |  0 | IGHA | 5 |\n",
       "| 2 | CARYRSGYDAMDYW_IGHV1-18  |  0 | IGHA | 4 |\n",
       "| 3 | CSIYYSFPFEYW_IGHV14-3    | 11 | IGHA | 8 |\n",
       "| 4 | CARNGYYYAMDYW_IGHV2-2    |  5 | IGHA | 5 |\n",
       "| 5 | CVRDGDYDVDWFAYW_IGHV10-3 |  4 | IGHA | 5 |\n",
       "| 6 | CAKRYYGNVGYFDYW_IGHV1-64 |  1 | IGHA | 4 |\n",
       "\n"
      ],
      "text/plain": [
       "  clonotype                v_mismatches c_call clonotype_count\n",
       "1 CARAPYGNYRFAYW_IGHV9-3    0           IGHA   5              \n",
       "2 CARYRSGYDAMDYW_IGHV1-18   0           IGHA   4              \n",
       "3 CSIYYSFPFEYW_IGHV14-3    11           IGHA   8              \n",
       "4 CARNGYYYAMDYW_IGHV2-2     5           IGHA   5              \n",
       "5 CVRDGDYDVDWFAYW_IGHV10-3  4           IGHA   5              \n",
       "6 CAKRYYGNVGYFDYW_IGHV1-64  1           IGHA   4              "
      ]
     },
     "metadata": {},
     "output_type": "display_data"
    }
   ],
   "source": [
    "sample1 <- paste0('./2404-iR-0005_NIH_additional_analysisfinal/cdr2_fr4_airr/', 'E1', '__IGH.csv' )\n",
    "sample2 <- paste0('./2404-iR-0005_NIH_additional_analysisfinal/cdr2_fr4_airr/', 'E1', '_r__IGH.csv' )\n",
    "\n",
    "table1 <- read.csv(file = sample1)\n",
    "table2 <- read.csv(file = sample2)\n",
    "\n",
    "table1 <- table1 |>\n",
    "select(all_of(c('junction_aa', 'v_call', 'v_mismatches', 'c_call')))\n",
    "\n",
    "table2 <- table2 |>\n",
    "select(all_of(c('junction_aa', 'v_call', 'v_mismatches', 'c_call')))\n",
    "\n",
    "table <- bind_rows(table1, table2)  |>\n",
    "    rename('junction_aa' = 'CDR3') |>\n",
    "    mutate(clonotype  =  paste(CDR3, v_call,sep = '_')) |> \n",
    "    select(-c(CDR3, v_call)) |>\n",
    "    relocate(clonotype) |> \n",
    "    add_count(clonotype, name = 'clonotype_count')  |>\n",
    "    distinct()\n",
    "\n",
    "nrow(table)    \n",
    "table |> pull(clonotype) |> n_distinct()\n",
    "head(table)\n"
   ]
  },
  {
   "cell_type": "code",
   "execution_count": 12,
   "metadata": {
    "vscode": {
     "languageId": "r"
    }
   },
   "outputs": [
    {
     "data": {
      "text/html": [
       "<table class=\"dataframe\">\n",
       "<caption>A data.frame: 6 × 9</caption>\n",
       "<thead>\n",
       "\t<tr><th></th><th scope=col>clonotype</th><th scope=col>E1</th><th scope=col>E2</th><th scope=col>E3</th><th scope=col>E4</th><th scope=col>S1</th><th scope=col>S2</th><th scope=col>S3</th><th scope=col>S4</th></tr>\n",
       "\t<tr><th></th><th scope=col>&lt;chr&gt;</th><th scope=col>&lt;dbl&gt;</th><th scope=col>&lt;dbl&gt;</th><th scope=col>&lt;dbl&gt;</th><th scope=col>&lt;dbl&gt;</th><th scope=col>&lt;dbl&gt;</th><th scope=col>&lt;dbl&gt;</th><th scope=col>&lt;dbl&gt;</th><th scope=col>&lt;dbl&gt;</th></tr>\n",
       "</thead>\n",
       "<tbody>\n",
       "\t<tr><th scope=row>1</th><td>CARAPYGNYRFAYW_IGHV9-3  </td><td>5</td><td>0</td><td>0</td><td>0</td><td>0</td><td>0</td><td>0</td><td>0</td></tr>\n",
       "\t<tr><th scope=row>2</th><td>CARYRSGYDAMDYW_IGHV1-18 </td><td>4</td><td>0</td><td>0</td><td>0</td><td>0</td><td>0</td><td>0</td><td>0</td></tr>\n",
       "\t<tr><th scope=row>3</th><td>CSIYYSFPFEYW_IGHV14-3   </td><td>8</td><td>0</td><td>0</td><td>0</td><td>0</td><td>0</td><td>0</td><td>0</td></tr>\n",
       "\t<tr><th scope=row>4</th><td>CARNGYYYAMDYW_IGHV2-2   </td><td>5</td><td>0</td><td>0</td><td>0</td><td>0</td><td>2</td><td>5</td><td>2</td></tr>\n",
       "\t<tr><th scope=row>5</th><td>CVRDGDYDVDWFAYW_IGHV10-3</td><td>5</td><td>0</td><td>0</td><td>0</td><td>0</td><td>0</td><td>0</td><td>0</td></tr>\n",
       "\t<tr><th scope=row>6</th><td>CAKRYYGNVGYFDYW_IGHV1-64</td><td>4</td><td>0</td><td>0</td><td>0</td><td>0</td><td>0</td><td>0</td><td>0</td></tr>\n",
       "</tbody>\n",
       "</table>\n"
      ],
      "text/latex": [
       "A data.frame: 6 × 9\n",
       "\\begin{tabular}{r|lllllllll}\n",
       "  & clonotype & E1 & E2 & E3 & E4 & S1 & S2 & S3 & S4\\\\\n",
       "  & <chr> & <dbl> & <dbl> & <dbl> & <dbl> & <dbl> & <dbl> & <dbl> & <dbl>\\\\\n",
       "\\hline\n",
       "\t1 & CARAPYGNYRFAYW\\_IGHV9-3   & 5 & 0 & 0 & 0 & 0 & 0 & 0 & 0\\\\\n",
       "\t2 & CARYRSGYDAMDYW\\_IGHV1-18  & 4 & 0 & 0 & 0 & 0 & 0 & 0 & 0\\\\\n",
       "\t3 & CSIYYSFPFEYW\\_IGHV14-3    & 8 & 0 & 0 & 0 & 0 & 0 & 0 & 0\\\\\n",
       "\t4 & CARNGYYYAMDYW\\_IGHV2-2    & 5 & 0 & 0 & 0 & 0 & 2 & 5 & 2\\\\\n",
       "\t5 & CVRDGDYDVDWFAYW\\_IGHV10-3 & 5 & 0 & 0 & 0 & 0 & 0 & 0 & 0\\\\\n",
       "\t6 & CAKRYYGNVGYFDYW\\_IGHV1-64 & 4 & 0 & 0 & 0 & 0 & 0 & 0 & 0\\\\\n",
       "\\end{tabular}\n"
      ],
      "text/markdown": [
       "\n",
       "A data.frame: 6 × 9\n",
       "\n",
       "| <!--/--> | clonotype &lt;chr&gt; | E1 &lt;dbl&gt; | E2 &lt;dbl&gt; | E3 &lt;dbl&gt; | E4 &lt;dbl&gt; | S1 &lt;dbl&gt; | S2 &lt;dbl&gt; | S3 &lt;dbl&gt; | S4 &lt;dbl&gt; |\n",
       "|---|---|---|---|---|---|---|---|---|---|\n",
       "| 1 | CARAPYGNYRFAYW_IGHV9-3   | 5 | 0 | 0 | 0 | 0 | 0 | 0 | 0 |\n",
       "| 2 | CARYRSGYDAMDYW_IGHV1-18  | 4 | 0 | 0 | 0 | 0 | 0 | 0 | 0 |\n",
       "| 3 | CSIYYSFPFEYW_IGHV14-3    | 8 | 0 | 0 | 0 | 0 | 0 | 0 | 0 |\n",
       "| 4 | CARNGYYYAMDYW_IGHV2-2    | 5 | 0 | 0 | 0 | 0 | 2 | 5 | 2 |\n",
       "| 5 | CVRDGDYDVDWFAYW_IGHV10-3 | 5 | 0 | 0 | 0 | 0 | 0 | 0 | 0 |\n",
       "| 6 | CAKRYYGNVGYFDYW_IGHV1-64 | 4 | 0 | 0 | 0 | 0 | 0 | 0 | 0 |\n",
       "\n"
      ],
      "text/plain": [
       "  clonotype                E1 E2 E3 E4 S1 S2 S3 S4\n",
       "1 CARAPYGNYRFAYW_IGHV9-3   5  0  0  0  0  0  0  0 \n",
       "2 CARYRSGYDAMDYW_IGHV1-18  4  0  0  0  0  0  0  0 \n",
       "3 CSIYYSFPFEYW_IGHV14-3    8  0  0  0  0  0  0  0 \n",
       "4 CARNGYYYAMDYW_IGHV2-2    5  0  0  0  0  2  5  2 \n",
       "5 CVRDGDYDVDWFAYW_IGHV10-3 5  0  0  0  0  0  0  0 \n",
       "6 CAKRYYGNVGYFDYW_IGHV1-64 4  0  0  0  0  0  0  0 "
      ]
     },
     "metadata": {},
     "output_type": "display_data"
    },
    {
     "data": {
      "text/html": [
       "<table class=\"dataframe\">\n",
       "<caption>A data.frame: 6 × 10</caption>\n",
       "<thead>\n",
       "\t<tr><th></th><th scope=col>clonotype</th><th scope=col>v_mismatches</th><th scope=col>E1</th><th scope=col>E2</th><th scope=col>E3</th><th scope=col>E4</th><th scope=col>S1</th><th scope=col>S2</th><th scope=col>S3</th><th scope=col>S4</th></tr>\n",
       "\t<tr><th></th><th scope=col>&lt;chr&gt;</th><th scope=col>&lt;dbl&gt;</th><th scope=col>&lt;dbl&gt;</th><th scope=col>&lt;dbl&gt;</th><th scope=col>&lt;dbl&gt;</th><th scope=col>&lt;dbl&gt;</th><th scope=col>&lt;dbl&gt;</th><th scope=col>&lt;dbl&gt;</th><th scope=col>&lt;dbl&gt;</th><th scope=col>&lt;dbl&gt;</th></tr>\n",
       "</thead>\n",
       "<tbody>\n",
       "\t<tr><th scope=row>1</th><td>CARAPYGNYRFAYW_IGHV9-3_0  </td><td> 0</td><td>3</td><td>0</td><td>0</td><td>0</td><td>0</td><td>0</td><td>0</td><td>0</td></tr>\n",
       "\t<tr><th scope=row>2</th><td>CARYRSGYDAMDYW_IGHV1-18_0 </td><td> 0</td><td>2</td><td>0</td><td>0</td><td>0</td><td>0</td><td>0</td><td>0</td><td>0</td></tr>\n",
       "\t<tr><th scope=row>3</th><td>CSIYYSFPFEYW_IGHV14-3_11  </td><td>11</td><td>3</td><td>0</td><td>0</td><td>0</td><td>0</td><td>0</td><td>0</td><td>0</td></tr>\n",
       "\t<tr><th scope=row>4</th><td>CARNGYYYAMDYW_IGHV2-2_5   </td><td> 5</td><td>2</td><td>0</td><td>0</td><td>0</td><td>0</td><td>0</td><td>0</td><td>0</td></tr>\n",
       "\t<tr><th scope=row>5</th><td>CVRDGDYDVDWFAYW_IGHV10-3_4</td><td> 4</td><td>1</td><td>0</td><td>0</td><td>0</td><td>0</td><td>0</td><td>0</td><td>0</td></tr>\n",
       "\t<tr><th scope=row>6</th><td>CAKRYYGNVGYFDYW_IGHV1-64_1</td><td> 1</td><td>2</td><td>0</td><td>0</td><td>0</td><td>0</td><td>0</td><td>0</td><td>0</td></tr>\n",
       "</tbody>\n",
       "</table>\n"
      ],
      "text/latex": [
       "A data.frame: 6 × 10\n",
       "\\begin{tabular}{r|llllllllll}\n",
       "  & clonotype & v\\_mismatches & E1 & E2 & E3 & E4 & S1 & S2 & S3 & S4\\\\\n",
       "  & <chr> & <dbl> & <dbl> & <dbl> & <dbl> & <dbl> & <dbl> & <dbl> & <dbl> & <dbl>\\\\\n",
       "\\hline\n",
       "\t1 & CARAPYGNYRFAYW\\_IGHV9-3\\_0   &  0 & 3 & 0 & 0 & 0 & 0 & 0 & 0 & 0\\\\\n",
       "\t2 & CARYRSGYDAMDYW\\_IGHV1-18\\_0  &  0 & 2 & 0 & 0 & 0 & 0 & 0 & 0 & 0\\\\\n",
       "\t3 & CSIYYSFPFEYW\\_IGHV14-3\\_11   & 11 & 3 & 0 & 0 & 0 & 0 & 0 & 0 & 0\\\\\n",
       "\t4 & CARNGYYYAMDYW\\_IGHV2-2\\_5    &  5 & 2 & 0 & 0 & 0 & 0 & 0 & 0 & 0\\\\\n",
       "\t5 & CVRDGDYDVDWFAYW\\_IGHV10-3\\_4 &  4 & 1 & 0 & 0 & 0 & 0 & 0 & 0 & 0\\\\\n",
       "\t6 & CAKRYYGNVGYFDYW\\_IGHV1-64\\_1 &  1 & 2 & 0 & 0 & 0 & 0 & 0 & 0 & 0\\\\\n",
       "\\end{tabular}\n"
      ],
      "text/markdown": [
       "\n",
       "A data.frame: 6 × 10\n",
       "\n",
       "| <!--/--> | clonotype &lt;chr&gt; | v_mismatches &lt;dbl&gt; | E1 &lt;dbl&gt; | E2 &lt;dbl&gt; | E3 &lt;dbl&gt; | E4 &lt;dbl&gt; | S1 &lt;dbl&gt; | S2 &lt;dbl&gt; | S3 &lt;dbl&gt; | S4 &lt;dbl&gt; |\n",
       "|---|---|---|---|---|---|---|---|---|---|---|\n",
       "| 1 | CARAPYGNYRFAYW_IGHV9-3_0   |  0 | 3 | 0 | 0 | 0 | 0 | 0 | 0 | 0 |\n",
       "| 2 | CARYRSGYDAMDYW_IGHV1-18_0  |  0 | 2 | 0 | 0 | 0 | 0 | 0 | 0 | 0 |\n",
       "| 3 | CSIYYSFPFEYW_IGHV14-3_11   | 11 | 3 | 0 | 0 | 0 | 0 | 0 | 0 | 0 |\n",
       "| 4 | CARNGYYYAMDYW_IGHV2-2_5    |  5 | 2 | 0 | 0 | 0 | 0 | 0 | 0 | 0 |\n",
       "| 5 | CVRDGDYDVDWFAYW_IGHV10-3_4 |  4 | 1 | 0 | 0 | 0 | 0 | 0 | 0 | 0 |\n",
       "| 6 | CAKRYYGNVGYFDYW_IGHV1-64_1 |  1 | 2 | 0 | 0 | 0 | 0 | 0 | 0 | 0 |\n",
       "\n"
      ],
      "text/plain": [
       "  clonotype                  v_mismatches E1 E2 E3 E4 S1 S2 S3 S4\n",
       "1 CARAPYGNYRFAYW_IGHV9-3_0    0           3  0  0  0  0  0  0  0 \n",
       "2 CARYRSGYDAMDYW_IGHV1-18_0   0           2  0  0  0  0  0  0  0 \n",
       "3 CSIYYSFPFEYW_IGHV14-3_11   11           3  0  0  0  0  0  0  0 \n",
       "4 CARNGYYYAMDYW_IGHV2-2_5     5           2  0  0  0  0  0  0  0 \n",
       "5 CVRDGDYDVDWFAYW_IGHV10-3_4  4           1  0  0  0  0  0  0  0 \n",
       "6 CAKRYYGNVGYFDYW_IGHV1-64_1  1           2  0  0  0  0  0  0  0 "
      ]
     },
     "metadata": {},
     "output_type": "display_data"
    }
   ],
   "source": [
    "results_all_samples_simple <- tibble()\n",
    "results_all_samples_with_SHM <- tibble()\n",
    "\n",
    "for (sample in samples) {\n",
    "    sample1 <- paste0('./2404-iR-0005_NIH_additional_analysisfinal/cdr2_fr4_airr/', sample, '__IGH.csv' )\n",
    "    sample2 <- paste0('./2404-iR-0005_NIH_additional_analysisfinal/cdr2_fr4_airr/', sample, '_r__IGH.csv' )\n",
    "\n",
    "    table1 <- read.csv(file = sample1)\n",
    "    table2 <- read.csv(file = sample2)\n",
    "\n",
    "    table1 <- table1 |>\n",
    "    select(all_of(c('junction_aa', 'v_call', 'v_mismatches', 'c_call')))\n",
    "\n",
    "    table2 <- table2 |>\n",
    "    select(all_of(c('junction_aa', 'v_call', 'v_mismatches',  'c_call')))\n",
    "\n",
    "    table <- bind_rows(table1, table2)  |>\n",
    "        rename('junction_aa' = 'CDR3') |>\n",
    "        mutate(clonotype  =  paste(CDR3, v_call, v_mismatches, sep = '_')) |> \n",
    "        select(-c(CDR3, v_call)) |>\n",
    "        relocate(clonotype) \n",
    "        \n",
    "    \n",
    "    table_simple  <- bind_rows(table1, table2)  |>\n",
    "        rename('junction_aa' = 'CDR3') |>\n",
    "        select(-v_mismatches) |> \n",
    "        mutate(clonotype  =  paste(CDR3, v_call,sep = '_')) |> \n",
    "        select(-c(CDR3, v_call)) |>\n",
    "        relocate(clonotype) \n",
    "        \n",
    "    \n",
    "    if (str_detect(string = sample,pattern = 'S')) {\n",
    "        table <- table |>\n",
    "            filter(c_call == 'IGHM') |>\n",
    "            select(-c_call) |>\n",
    "            add_count(clonotype, v_mismatches, name = sample)  |>\n",
    "            distinct()\n",
    "\n",
    "        table_simple <- table_simple |>\n",
    "            filter(c_call == 'IGHM') |>\n",
    "            select(-c_call) |>\n",
    "            add_count(clonotype, name =  sample)   |>\n",
    "            distinct()\n",
    "    } else {\n",
    "        table <- table |>\n",
    "            select(-c_call) |>\n",
    "            add_count(clonotype, v_mismatches, name = sample)  |>\n",
    "            distinct()\n",
    "\n",
    "        table_simple <- table_simple |>\n",
    "            select(-c_call) |>\n",
    "            add_count(clonotype, name =  sample)   |>\n",
    "            distinct()\n",
    "    }\n",
    "\n",
    "    if (nrow(results_all_samples_simple) == 0) {\n",
    "        results_all_samples_simple <- table_simple\n",
    "        results_all_samples_with_SHM <- table \n",
    "    } else {\n",
    "        results_all_samples_simple <- full_join(results_all_samples_simple, table_simple, by = 'clonotype') |>\n",
    "                mutate_all(~replace(., is.na(.), 0))  \n",
    "\n",
    "        results_all_samples_with_SHM <- full_join(results_all_samples_with_SHM, table, by = c( 'clonotype' ,  'v_mismatches' )) |>\n",
    "                mutate_all(~replace(., is.na(.), 0))\n",
    "    }\n",
    "        \n",
    "}\n",
    "\n",
    "head(results_all_samples_simple)\n",
    "head(results_all_samples_with_SHM)\n",
    "\n",
    "write.csv(results_all_samples_simple, file = 'results_all_samples_simple_spleen_IGHM_only.csv', row.names = F)\n",
    "\n",
    "write.csv(results_all_samples_with_SHM, file = 'results_all_samples_with_SHM_spleen_IGHM_only.csv', row.names = F)"
   ]
  },
  {
   "cell_type": "code",
   "execution_count": 26,
   "metadata": {
    "vscode": {
     "languageId": "r"
    }
   },
   "outputs": [
    {
     "data": {
      "text/html": [
       "<table class=\"dataframe\">\n",
       "<caption>A data.frame: 6 × 9</caption>\n",
       "<thead>\n",
       "\t<tr><th></th><th scope=col>clonotype</th><th scope=col>E1</th><th scope=col>E2</th><th scope=col>E3</th><th scope=col>E4</th><th scope=col>S1</th><th scope=col>S2</th><th scope=col>S3</th><th scope=col>S4</th></tr>\n",
       "\t<tr><th></th><th scope=col>&lt;chr&gt;</th><th scope=col>&lt;dbl&gt;</th><th scope=col>&lt;dbl&gt;</th><th scope=col>&lt;dbl&gt;</th><th scope=col>&lt;dbl&gt;</th><th scope=col>&lt;dbl&gt;</th><th scope=col>&lt;dbl&gt;</th><th scope=col>&lt;dbl&gt;</th><th scope=col>&lt;dbl&gt;</th></tr>\n",
       "</thead>\n",
       "<tbody>\n",
       "\t<tr><th scope=row>1</th><td>CARNYYAMDYW_IGHV2-2        </td><td>27</td><td>0</td><td>0</td><td>0</td><td>0</td><td>3</td><td>3</td><td>4</td></tr>\n",
       "\t<tr><th scope=row>2</th><td>CARFTTDYYAMDYW_IGHV1-19    </td><td>19</td><td>0</td><td>0</td><td>0</td><td>0</td><td>0</td><td>0</td><td>0</td></tr>\n",
       "\t<tr><th scope=row>3</th><td>CVRQSYYSKGGYWYFDVW_IGHV10-1</td><td>14</td><td>0</td><td>0</td><td>0</td><td>0</td><td>0</td><td>0</td><td>0</td></tr>\n",
       "\t<tr><th scope=row>4</th><td>CARSYDYDGWYAMDYW_IGHV8-12  </td><td>13</td><td>0</td><td>0</td><td>0</td><td>0</td><td>0</td><td>0</td><td>0</td></tr>\n",
       "\t<tr><th scope=row>5</th><td>CARSYYYGSSYFDYW_IGHV1-80   </td><td>12</td><td>0</td><td>0</td><td>0</td><td>1</td><td>1</td><td>0</td><td>0</td></tr>\n",
       "\t<tr><th scope=row>6</th><td>CVSYYGNYEYYAMDYW_IGHV9-1   </td><td>10</td><td>0</td><td>0</td><td>0</td><td>0</td><td>0</td><td>0</td><td>0</td></tr>\n",
       "</tbody>\n",
       "</table>\n"
      ],
      "text/latex": [
       "A data.frame: 6 × 9\n",
       "\\begin{tabular}{r|lllllllll}\n",
       "  & clonotype & E1 & E2 & E3 & E4 & S1 & S2 & S3 & S4\\\\\n",
       "  & <chr> & <dbl> & <dbl> & <dbl> & <dbl> & <dbl> & <dbl> & <dbl> & <dbl>\\\\\n",
       "\\hline\n",
       "\t1 & CARNYYAMDYW\\_IGHV2-2         & 27 & 0 & 0 & 0 & 0 & 3 & 3 & 4\\\\\n",
       "\t2 & CARFTTDYYAMDYW\\_IGHV1-19     & 19 & 0 & 0 & 0 & 0 & 0 & 0 & 0\\\\\n",
       "\t3 & CVRQSYYSKGGYWYFDVW\\_IGHV10-1 & 14 & 0 & 0 & 0 & 0 & 0 & 0 & 0\\\\\n",
       "\t4 & CARSYDYDGWYAMDYW\\_IGHV8-12   & 13 & 0 & 0 & 0 & 0 & 0 & 0 & 0\\\\\n",
       "\t5 & CARSYYYGSSYFDYW\\_IGHV1-80    & 12 & 0 & 0 & 0 & 1 & 1 & 0 & 0\\\\\n",
       "\t6 & CVSYYGNYEYYAMDYW\\_IGHV9-1    & 10 & 0 & 0 & 0 & 0 & 0 & 0 & 0\\\\\n",
       "\\end{tabular}\n"
      ],
      "text/markdown": [
       "\n",
       "A data.frame: 6 × 9\n",
       "\n",
       "| <!--/--> | clonotype &lt;chr&gt; | E1 &lt;dbl&gt; | E2 &lt;dbl&gt; | E3 &lt;dbl&gt; | E4 &lt;dbl&gt; | S1 &lt;dbl&gt; | S2 &lt;dbl&gt; | S3 &lt;dbl&gt; | S4 &lt;dbl&gt; |\n",
       "|---|---|---|---|---|---|---|---|---|---|\n",
       "| 1 | CARNYYAMDYW_IGHV2-2         | 27 | 0 | 0 | 0 | 0 | 3 | 3 | 4 |\n",
       "| 2 | CARFTTDYYAMDYW_IGHV1-19     | 19 | 0 | 0 | 0 | 0 | 0 | 0 | 0 |\n",
       "| 3 | CVRQSYYSKGGYWYFDVW_IGHV10-1 | 14 | 0 | 0 | 0 | 0 | 0 | 0 | 0 |\n",
       "| 4 | CARSYDYDGWYAMDYW_IGHV8-12   | 13 | 0 | 0 | 0 | 0 | 0 | 0 | 0 |\n",
       "| 5 | CARSYYYGSSYFDYW_IGHV1-80    | 12 | 0 | 0 | 0 | 1 | 1 | 0 | 0 |\n",
       "| 6 | CVSYYGNYEYYAMDYW_IGHV9-1    | 10 | 0 | 0 | 0 | 0 | 0 | 0 | 0 |\n",
       "\n"
      ],
      "text/plain": [
       "  clonotype                   E1 E2 E3 E4 S1 S2 S3 S4\n",
       "1 CARNYYAMDYW_IGHV2-2         27 0  0  0  0  3  3  4 \n",
       "2 CARFTTDYYAMDYW_IGHV1-19     19 0  0  0  0  0  0  0 \n",
       "3 CVRQSYYSKGGYWYFDVW_IGHV10-1 14 0  0  0  0  0  0  0 \n",
       "4 CARSYDYDGWYAMDYW_IGHV8-12   13 0  0  0  0  0  0  0 \n",
       "5 CARSYYYGSSYFDYW_IGHV1-80    12 0  0  0  1  1  0  0 \n",
       "6 CVSYYGNYEYYAMDYW_IGHV9-1    10 0  0  0  0  0  0  0 "
      ]
     },
     "metadata": {},
     "output_type": "display_data"
    }
   ],
   "source": [
    "head(results_all_samples_simple |> arrange(desc(E1)))"
   ]
  },
  {
   "cell_type": "markdown",
   "metadata": {},
   "source": [
    "# Percentage overlap with spleen IGHM "
   ]
  },
  {
   "cell_type": "markdown",
   "metadata": {},
   "source": [
    "## Total sequences"
   ]
  },
  {
   "cell_type": "code",
   "execution_count": 27,
   "metadata": {
    "vscode": {
     "languageId": "r"
    }
   },
   "outputs": [
    {
     "name": "stderr",
     "output_type": "stream",
     "text": [
      "\u001b[1m\u001b[22mNew names:\n",
      "\u001b[36m•\u001b[39m `mouse` -> `mouse...1`\n",
      "\u001b[36m•\u001b[39m `mouse` -> `mouse...2`\n",
      "\u001b[1m\u001b[22mNew names:\n",
      "\u001b[36m•\u001b[39m `mouse` -> `mouse...3`\n",
      "\u001b[1m\u001b[22mNew names:\n",
      "\u001b[36m•\u001b[39m `mouse` -> `mouse...4`\n"
     ]
    },
    {
     "data": {
      "text/html": [
       "<table class=\"dataframe\">\n",
       "<caption>A tibble: 4 × 5</caption>\n",
       "<thead>\n",
       "\t<tr><th scope=col>Metric</th><th scope=col>mouse...1</th><th scope=col>mouse...2</th><th scope=col>mouse...3</th><th scope=col>mouse...4</th></tr>\n",
       "\t<tr><th scope=col>&lt;chr&gt;</th><th scope=col>&lt;dbl&gt;</th><th scope=col>&lt;dbl&gt;</th><th scope=col>&lt;dbl&gt;</th><th scope=col>&lt;dbl&gt;</th></tr>\n",
       "</thead>\n",
       "<tbody>\n",
       "\t<tr><td>clones_percent_skin_unique                </td><td>97.385621</td><td>87.31343</td><td>93.286219</td><td>92.887029</td></tr>\n",
       "\t<tr><td>clones_percent_overlap_with_spleen_IGHM   </td><td> 2.614379</td><td>12.68657</td><td> 6.713781</td><td> 7.112971</td></tr>\n",
       "\t<tr><td>sequences_percent_skin_unique             </td><td>95.848375</td><td>80.08214</td><td>88.047809</td><td>88.349515</td></tr>\n",
       "\t<tr><td>sequences_percent_overlap_with_spleen_IGHM</td><td> 4.151625</td><td>19.91786</td><td>11.952191</td><td>11.650485</td></tr>\n",
       "</tbody>\n",
       "</table>\n"
      ],
      "text/latex": [
       "A tibble: 4 × 5\n",
       "\\begin{tabular}{lllll}\n",
       " Metric & mouse...1 & mouse...2 & mouse...3 & mouse...4\\\\\n",
       " <chr> & <dbl> & <dbl> & <dbl> & <dbl>\\\\\n",
       "\\hline\n",
       "\t clones\\_percent\\_skin\\_unique                 & 97.385621 & 87.31343 & 93.286219 & 92.887029\\\\\n",
       "\t clones\\_percent\\_overlap\\_with\\_spleen\\_IGHM    &  2.614379 & 12.68657 &  6.713781 &  7.112971\\\\\n",
       "\t sequences\\_percent\\_skin\\_unique              & 95.848375 & 80.08214 & 88.047809 & 88.349515\\\\\n",
       "\t sequences\\_percent\\_overlap\\_with\\_spleen\\_IGHM &  4.151625 & 19.91786 & 11.952191 & 11.650485\\\\\n",
       "\\end{tabular}\n"
      ],
      "text/markdown": [
       "\n",
       "A tibble: 4 × 5\n",
       "\n",
       "| Metric &lt;chr&gt; | mouse...1 &lt;dbl&gt; | mouse...2 &lt;dbl&gt; | mouse...3 &lt;dbl&gt; | mouse...4 &lt;dbl&gt; |\n",
       "|---|---|---|---|---|\n",
       "| clones_percent_skin_unique                 | 97.385621 | 87.31343 | 93.286219 | 92.887029 |\n",
       "| clones_percent_overlap_with_spleen_IGHM    |  2.614379 | 12.68657 |  6.713781 |  7.112971 |\n",
       "| sequences_percent_skin_unique              | 95.848375 | 80.08214 | 88.047809 | 88.349515 |\n",
       "| sequences_percent_overlap_with_spleen_IGHM |  4.151625 | 19.91786 | 11.952191 | 11.650485 |\n",
       "\n"
      ],
      "text/plain": [
       "  Metric                                     mouse...1 mouse...2 mouse...3\n",
       "1 clones_percent_skin_unique                 97.385621 87.31343  93.286219\n",
       "2 clones_percent_overlap_with_spleen_IGHM     2.614379 12.68657   6.713781\n",
       "3 sequences_percent_skin_unique              95.848375 80.08214  88.047809\n",
       "4 sequences_percent_overlap_with_spleen_IGHM  4.151625 19.91786  11.952191\n",
       "  mouse...4\n",
       "1 92.887029\n",
       "2  7.112971\n",
       "3 88.349515\n",
       "4 11.650485"
      ]
     },
     "metadata": {},
     "output_type": "display_data"
    }
   ],
   "source": [
    "# results_all_samples_simple\n",
    "# results_all_samples_with_SHM\n",
    "\n",
    "results <- tibble(.rows = 4)\n",
    "#sequences_results <- tibble(.rows = 4)\n",
    "\n",
    "for (Mouse in seq(1:4)) {\n",
    "    \n",
    "    mouse <- as.character(Mouse)\n",
    "    skin_mouse <- paste0('E',  mouse )\n",
    "    spleen_mouse <- paste0('S',  mouse )\n",
    "    \n",
    "    new_names <- c('skin', 'spleen')\n",
    "    names(new_names) <- c(skin_mouse, spleen_mouse)\n",
    "\n",
    "    results_all_samples_simple_skin <- results_all_samples_simple |> \n",
    "        select(contains(mouse) | clonotype) |> \n",
    "        rename(all_of(new_names)) |> \n",
    "        filter(skin > 0)         \n",
    "    total_unique_clones <- results_all_samples_simple_skin |> pull(clonotype) |> n_distinct()\n",
    "    total_unique_sequences <- results_all_samples_simple_skin |> pull(skin) |> sum()\n",
    "\n",
    "\n",
    "    clones_percent_skin_unique <- results_all_samples_simple_skin |> filter(spleen == 0) |> pull(clonotype) |> n_distinct()*100/total_unique_clones\n",
    "    sequences_percent_skin_unique <- results_all_samples_simple_skin |> filter(spleen == 0) |> pull(skin) |> sum()*100/total_unique_sequences\n",
    "\n",
    "    clones_percent_overlap_with_spleen_IGHM <- results_all_samples_simple_skin |> filter(spleen > 0) |> pull(clonotype) |> n_distinct()*100/total_unique_clones\n",
    "    sequences_percent_overlap_with_spleen_IGHM <- results_all_samples_simple_skin |> filter(spleen > 0) |> pull(skin) |> sum()*100/total_unique_sequences\n",
    "\n",
    "    mouse_results <- c(clones_percent_skin_unique, clones_percent_overlap_with_spleen_IGHM, sequences_percent_skin_unique, sequences_percent_overlap_with_spleen_IGHM)\n",
    "\n",
    "\n",
    "    results <- bind_cols(results, tibble(mouse = mouse_results))\n",
    "\n",
    "}\n",
    "row_names  <-  c('clones_percent_skin_unique', 'clones_percent_overlap_with_spleen_IGHM', 'sequences_percent_skin_unique', 'sequences_percent_overlap_with_spleen_IGHM')\n",
    "results <- results |> mutate(Metric = row_names) |> relocate(Metric)\n",
    "head(results)\n",
    "\n",
    "write.csv(results, file = 'BCR_total_overlap_between_skin_and_spleen_IGHM.csv', row.names = FALSE)\n",
    "\n",
    "\n",
    "\n"
   ]
  },
  {
   "cell_type": "markdown",
   "metadata": {},
   "source": [
    "## Mutated sequences"
   ]
  },
  {
   "cell_type": "code",
   "execution_count": 13,
   "metadata": {
    "vscode": {
     "languageId": "r"
    }
   },
   "outputs": [
    {
     "name": "stderr",
     "output_type": "stream",
     "text": [
      "\u001b[1m\u001b[22mNew names:\n",
      "\u001b[36m•\u001b[39m `mouse` -> `mouse...1`\n",
      "\u001b[36m•\u001b[39m `mouse` -> `mouse...2`\n",
      "\u001b[1m\u001b[22mNew names:\n",
      "\u001b[36m•\u001b[39m `mouse` -> `mouse...3`\n",
      "\u001b[1m\u001b[22mNew names:\n",
      "\u001b[36m•\u001b[39m `mouse` -> `mouse...4`\n"
     ]
    },
    {
     "data": {
      "text/html": [
       "<table class=\"dataframe\">\n",
       "<caption>A tibble: 4 × 5</caption>\n",
       "<thead>\n",
       "\t<tr><th scope=col>Metric</th><th scope=col>mouse...1</th><th scope=col>mouse...2</th><th scope=col>mouse...3</th><th scope=col>mouse...4</th></tr>\n",
       "\t<tr><th scope=col>&lt;chr&gt;</th><th scope=col>&lt;dbl&gt;</th><th scope=col>&lt;dbl&gt;</th><th scope=col>&lt;dbl&gt;</th><th scope=col>&lt;dbl&gt;</th></tr>\n",
       "</thead>\n",
       "<tbody>\n",
       "\t<tr><td>clones_percent_skin_unique                </td><td>99.1266376</td><td>91.810345</td><td>98.654709</td><td>97.461929</td></tr>\n",
       "\t<tr><td>clones_percent_overlap_with_spleen_IGHM   </td><td> 0.8733624</td><td> 8.189655</td><td> 1.345291</td><td> 2.538071</td></tr>\n",
       "\t<tr><td>sequences_percent_skin_unique             </td><td>99.1869919</td><td>88.793103</td><td>97.360704</td><td>97.586207</td></tr>\n",
       "\t<tr><td>sequences_percent_overlap_with_spleen_IGHM</td><td> 0.8130081</td><td>11.206897</td><td> 2.639296</td><td> 2.413793</td></tr>\n",
       "</tbody>\n",
       "</table>\n"
      ],
      "text/latex": [
       "A tibble: 4 × 5\n",
       "\\begin{tabular}{lllll}\n",
       " Metric & mouse...1 & mouse...2 & mouse...3 & mouse...4\\\\\n",
       " <chr> & <dbl> & <dbl> & <dbl> & <dbl>\\\\\n",
       "\\hline\n",
       "\t clones\\_percent\\_skin\\_unique                 & 99.1266376 & 91.810345 & 98.654709 & 97.461929\\\\\n",
       "\t clones\\_percent\\_overlap\\_with\\_spleen\\_IGHM    &  0.8733624 &  8.189655 &  1.345291 &  2.538071\\\\\n",
       "\t sequences\\_percent\\_skin\\_unique              & 99.1869919 & 88.793103 & 97.360704 & 97.586207\\\\\n",
       "\t sequences\\_percent\\_overlap\\_with\\_spleen\\_IGHM &  0.8130081 & 11.206897 &  2.639296 &  2.413793\\\\\n",
       "\\end{tabular}\n"
      ],
      "text/markdown": [
       "\n",
       "A tibble: 4 × 5\n",
       "\n",
       "| Metric &lt;chr&gt; | mouse...1 &lt;dbl&gt; | mouse...2 &lt;dbl&gt; | mouse...3 &lt;dbl&gt; | mouse...4 &lt;dbl&gt; |\n",
       "|---|---|---|---|---|\n",
       "| clones_percent_skin_unique                 | 99.1266376 | 91.810345 | 98.654709 | 97.461929 |\n",
       "| clones_percent_overlap_with_spleen_IGHM    |  0.8733624 |  8.189655 |  1.345291 |  2.538071 |\n",
       "| sequences_percent_skin_unique              | 99.1869919 | 88.793103 | 97.360704 | 97.586207 |\n",
       "| sequences_percent_overlap_with_spleen_IGHM |  0.8130081 | 11.206897 |  2.639296 |  2.413793 |\n",
       "\n"
      ],
      "text/plain": [
       "  Metric                                     mouse...1  mouse...2 mouse...3\n",
       "1 clones_percent_skin_unique                 99.1266376 91.810345 98.654709\n",
       "2 clones_percent_overlap_with_spleen_IGHM     0.8733624  8.189655  1.345291\n",
       "3 sequences_percent_skin_unique              99.1869919 88.793103 97.360704\n",
       "4 sequences_percent_overlap_with_spleen_IGHM  0.8130081 11.206897  2.639296\n",
       "  mouse...4\n",
       "1 97.461929\n",
       "2  2.538071\n",
       "3 97.586207\n",
       "4  2.413793"
      ]
     },
     "metadata": {},
     "output_type": "display_data"
    }
   ],
   "source": [
    "# results_all_samples_simple\n",
    "# results_all_samples_with_SHM\n",
    "\n",
    "results <- tibble(.rows = 4)\n",
    "#sequences_results <- tibble(.rows = 4)\n",
    "\n",
    "for (Mouse in seq(1:4)) {\n",
    "    \n",
    "    mouse <- as.character(Mouse)\n",
    "    skin_mouse <- paste0('E',  mouse )\n",
    "    spleen_mouse <- paste0('S',  mouse )\n",
    "    \n",
    "    new_names <- c('skin', 'spleen')\n",
    "    names(new_names) <- c(skin_mouse, spleen_mouse)\n",
    "\n",
    "    results_all_samples_SHM_skin <- results_all_samples_with_SHM |> \n",
    "        select(contains(mouse) | clonotype | v_mismatches) |> \n",
    "        rename(all_of(new_names)) |> \n",
    "        filter(skin > 0 & v_mismatches > 0)         \n",
    "    total_unique_clones <- results_all_samples_SHM_skin |> pull(clonotype) |> n_distinct()\n",
    "    total_unique_sequences <- results_all_samples_SHM_skin |> pull(skin) |> sum()\n",
    "\n",
    "\n",
    "    clones_percent_skin_unique <- results_all_samples_SHM_skin |> filter(spleen == 0) |> pull(clonotype) |> n_distinct()*100/total_unique_clones\n",
    "    sequences_percent_skin_unique <- results_all_samples_SHM_skin |> filter(spleen == 0) |> pull(skin) |> sum()*100/total_unique_sequences\n",
    "\n",
    "    clones_percent_overlap_with_spleen_IGHM <- results_all_samples_SHM_skin |> filter(spleen > 0) |> pull(clonotype) |> n_distinct()*100/total_unique_clones\n",
    "    sequences_percent_overlap_with_spleen_IGHM <- results_all_samples_SHM_skin |> filter(spleen > 0) |> pull(skin) |> sum()*100/total_unique_sequences\n",
    "\n",
    "    mouse_results <- c(clones_percent_skin_unique, clones_percent_overlap_with_spleen_IGHM, sequences_percent_skin_unique, sequences_percent_overlap_with_spleen_IGHM)\n",
    "\n",
    "\n",
    "    results <- bind_cols(results, tibble(mouse = mouse_results))\n",
    "\n",
    "}\n",
    "row_names  <-  c('clones_percent_skin_unique', 'clones_percent_overlap_with_spleen_IGHM', 'sequences_percent_skin_unique', 'sequences_percent_overlap_with_spleen_IGHM')\n",
    "results <- results |> mutate(Metric = row_names) |> relocate(Metric)\n",
    "head(results)\n",
    "\n",
    "write.csv(results, file = 'BCR_mutated_overlap_between_skin_and_spleen_IGHM.csv', row.names = FALSE)\n"
   ]
  }
 ],
 "metadata": {
  "kernelspec": {
   "display_name": "R",
   "language": "R",
   "name": "ir"
  },
  "language_info": {
   "codemirror_mode": "r",
   "file_extension": ".r",
   "mimetype": "text/x-r-source",
   "name": "R",
   "pygments_lexer": "r",
   "version": "4.3.2"
  }
 },
 "nbformat": 4,
 "nbformat_minor": 2
}
